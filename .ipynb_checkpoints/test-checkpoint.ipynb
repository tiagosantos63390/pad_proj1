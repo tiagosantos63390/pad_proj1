{
 "cells": [
  {
   "metadata": {
    "jupyter": {
     "is_executing": true
    }
   },
   "cell_type": "code",
   "source": [
    "# Import necessary libraries\n",
    "import numpy as np\n",
    "import networkx as nx\n",
    "import pandas as pd\n",
    "import matplotlib.pyplot as plt\n",
    "import seaborn as sns\n",
    "from scipy.spatial.distance import pdist, squareform\n",
    "from sklearn.cluster import KMeans\n",
    "from sklearn.metrics import normalized_mutual_info_score\n",
    "from networkx.algorithms.community import modularity"
   ],
   "id": "a7791b22b803828a",
   "outputs": [],
   "execution_count": null
  },
  {
   "cell_type": "code",
   "id": "c41d8d12",
   "metadata": {
    "vscode": {
     "languageId": "plaintext"
    },
    "jupyter": {
     "is_executing": true
    }
   },
   "source": [
    "# ================================\n",
    "# Spectral Clustering Function\n",
    "# ================================\n",
    "def spectral_clustering_dense(graph, k, sigma=1.0, laplacian_type=\"normalized\"):\n",
    "    \"\"\"\n",
    "    Spectral Clustering using Full Eigen Decomposition for small graphs.\n",
    "    \n",
    "    Parameters:\n",
    "    - graph: NetworkX graph\n",
    "    - k: Number of clusters\n",
    "    - sigma: Gaussian kernel parameter (controls neighborhood similarity)\n",
    "    - laplacian_type: \"unnormalized\" or \"normalized\" (default: \"normalized\")\n",
    "\n",
    "    Returns:\n",
    "    - cluster_labels: Cluster assignments for each node\n",
    "    \"\"\"\n",
    "    # Step 1: Compute the adjacency matrix (A)\n",
    "    A = nx.to_numpy_array(graph)\n",
    "\n",
    "    # Step 2: Compute similarity matrix (W) using Gaussian Kernel\n",
    "    pairwise_dists = squareform(pdist(A, metric=\"euclidean\"))  # Compute pairwise distances\n",
    "    W = np.exp(-pairwise_dists ** 2 / (2.0 * sigma ** 2))  # Apply Gaussian kernel\n",
    "\n",
    "    # Step 3: Compute the graph Laplacian\n",
    "    D = np.diag(W.sum(axis=1))  # Degree matrix\n",
    "    if laplacian_type == \"normalized\":\n",
    "        D_inv_sqrt = np.diag(1.0 / np.sqrt(D.diagonal()))\n",
    "        L = D_inv_sqrt @ W @ D_inv_sqrt  # Normalized Laplacian\n",
    "    else:\n",
    "        L = D - W  # Unnormalized Laplacian\n",
    "\n",
    "    # Step 4: Compute the top k eigenvectors using full decomposition\n",
    "    eigvals, eigvecs = np.linalg.eigh(L)  # Full decomposition\n",
    "\n",
    "    # Step 5: Normalize row-wise (handling NaN values)\n",
    "    X_norm = np.linalg.norm(eigvecs[:, -k:], axis=1, keepdims=True)\n",
    "    X_norm[X_norm == 0] = 1  # Avoid division by zero\n",
    "    X = eigvecs[:, -k:] / X_norm  # Normalize rows\n",
    "\n",
    "    # Step 6: Apply K-means clustering on the transformed space\n",
    "    kmeans = KMeans(n_clusters=k, random_state=42, n_init=10)\n",
    "    cluster_labels = kmeans.fit_predict(X)\n",
    "\n",
    "    return cluster_labels"
   ],
   "outputs": [],
   "execution_count": null
  },
  {
   "metadata": {},
   "cell_type": "code",
   "outputs": [],
   "execution_count": null,
   "source": [
    "# ================================\n",
    "# Clustering Evaluation Function\n",
    "# ================================\n",
    "def evaluate_clustering(graph, labels, ground_truth):\n",
    "    \"\"\"\n",
    "    Evaluates clustering using Normalized Mutual Information (NMI) and Modularity Score.\n",
    "\n",
    "    Parameters:\n",
    "    - graph: NetworkX graph\n",
    "    - labels: Cluster assignments from Spectral Clustering\n",
    "    - ground_truth: Ground-truth community labels\n",
    "\n",
    "    Returns:\n",
    "    - NMI Score\n",
    "    - Modularity Score\n",
    "    \"\"\"\n",
    "    # Compute NMI Score\n",
    "    nmi_score = normalized_mutual_info_score(ground_truth, labels)\n",
    "\n",
    "    # Compute Modularity Score\n",
    "    communities = {i: [] for i in set(labels)}\n",
    "    for node, cluster in enumerate(labels):\n",
    "        communities[cluster].append(node)\n",
    "    modularity_score = modularity(graph, list(communities.values()))\n",
    "\n",
    "    return nmi_score, modularity_score\n"
   ],
   "id": "93cea2ebd1882b2a"
  },
  {
   "metadata": {},
   "cell_type": "code",
   "outputs": [],
   "execution_count": null,
   "source": [
    "\n",
    "\n",
    "# ================================\n",
    "# Dataset Loading and Ground-Truth Extraction\n",
    "# ================================\n",
    "def load_dataset(path, label_attr=None):\n",
    "    \"\"\"\n",
    "    Loads a GML dataset and extracts ground-truth labels from a given attribute.\n",
    "\n",
    "    Parameters:\n",
    "    - path: Path to GML file\n",
    "    - label_attr: Attribute containing ground-truth labels\n",
    "\n",
    "    Returns:\n",
    "    - G: Processed undirected graph\n",
    "    - ground_truth: Ground-truth labels (if available), else None\n",
    "    \"\"\"\n",
    "    G_raw = nx.read_gml(path, label='label' if 'football' in path else None)\n",
    "    G = G_raw.to_undirected()\n",
    "\n",
    "    if not nx.is_connected(G):\n",
    "        largest_cc = max(nx.connected_components(G), key=len)\n",
    "        G = G.subgraph(largest_cc).copy()\n",
    "\n",
    "    mapping = {node: idx for idx, node in enumerate(G.nodes())}\n",
    "    G = nx.relabel_nodes(G, mapping)\n",
    "\n",
    "    ground_truth = None\n",
    "    if label_attr:\n",
    "        raw_labels = nx.get_node_attributes(G_raw, label_attr)\n",
    "        if raw_labels:\n",
    "            ground_truth = [raw_labels[node] for node in mapping.keys()]\n",
    "            if isinstance(ground_truth[0], str):\n",
    "                unique_labels = list(set(ground_truth))\n",
    "                label_map = {label: i for i, label in enumerate(unique_labels)}\n",
    "                ground_truth = [label_map[label] for label in ground_truth]\n",
    "    return G, ground_truth"
   ],
   "id": "2354ce62ca0a1fe8"
  }
 ],
 "metadata": {
  "language_info": {
   "name": "python"
  }
 },
 "nbformat": 4,
 "nbformat_minor": 5
}
