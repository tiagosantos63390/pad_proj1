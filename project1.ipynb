{
 "cells": [
  {
   "cell_type": "code",
   "execution_count": 2,
   "metadata": {},
   "outputs": [],
   "source": [
    "import pandas as pd\n",
    "import numpy as np\n",
    "import matplotlib.pyplot as plt\n",
    "import seaborn as sns\n",
    "import skfuzzy as fuzz\n",
    "\n",
    "from sklearn.preprocessing import StandardScaler"
   ]
  },
  {
   "cell_type": "markdown",
   "metadata": {},
   "source": [
    "# EDA"
   ]
  },
  {
   "cell_type": "code",
   "execution_count": 3,
   "metadata": {},
   "outputs": [],
   "source": [
    "# load datasets\n",
    "white_wine = pd.read_csv('winequality-white.csv', sep=';')\n",
    "red_wine = pd.read_csv('winequality-red.csv', sep=';')"
   ]
  },
  {
   "cell_type": "code",
   "execution_count": null,
   "metadata": {},
   "outputs": [],
   "source": [
    "# display basic info\n",
    "print(\"=== Dataset Information ===\")\n",
    "white_wine.info()\n",
    "\n",
    "# display summary statistics\n",
    "print(\"\\n=== Summary Statistics ===\")\n",
    "print(white_wine.describe())\n",
    "\n",
    "# check for missing values\n",
    "print(\"\\n=== Missing Values ===\")\n",
    "print(white_wine.isnull().sum())"
   ]
  },
  {
   "cell_type": "markdown",
   "metadata": {},
   "source": [
    "### Univariate Analysis"
   ]
  },
  {
   "cell_type": "code",
   "execution_count": null,
   "metadata": {},
   "outputs": [],
   "source": [
    "\"\"\" features - distribution plots \"\"\"\n",
    "plt.figure(figsize=(15, 20))\n",
    "\n",
    "for i, column in enumerate(white_wine.columns, 1):\n",
    "    plt.subplot(4, 3, i)\n",
    "    sns.histplot(white_wine[column], kde=True)\n",
    "    plt.title(f'Distribution of {column}')\n",
    "    plt.tight_layout()\n",
    "\n",
    "plt.show()"
   ]
  },
  {
   "cell_type": "code",
   "execution_count": null,
   "metadata": {},
   "outputs": [],
   "source": [
    "\"\"\" features - box plots \"\"\"\n",
    "plt.figure(figsize=(15, 20))\n",
    "\n",
    "for i, column in enumerate(white_wine.columns, 1):\n",
    "    plt.subplot(4, 3, i)\n",
    "    sns.boxplot(y=white_wine[column])\n",
    "    plt.title(f'Boxplot of {column}')\n",
    "    plt.tight_layout()\n",
    "\n",
    "plt.show()"
   ]
  },
  {
   "cell_type": "code",
   "execution_count": null,
   "metadata": {},
   "outputs": [],
   "source": [
    "\"\"\" features - correlation matrix \"\"\"\n",
    "corr_matrix = white_wine.corr()\n",
    "\n",
    "plt.figure(figsize=(12, 8))\n",
    "sns.heatmap(corr_matrix, annot=True, cmap='coolwarm', center=0)\n",
    "plt.title('Correlation Matrix of Wine Features')\n",
    "plt.show()"
   ]
  },
  {
   "cell_type": "markdown",
   "metadata": {},
   "source": [
    "### Bivariate Analysis"
   ]
  },
  {
   "cell_type": "code",
   "execution_count": null,
   "metadata": {},
   "outputs": [],
   "source": [
    "\"\"\" two features - scatter plots \"\"\"\n",
    "# alcohol vs quality\n",
    "plt.figure(figsize=(10, 6))\n",
    "sns.scatterplot(x='alcohol', y='quality', data=white_wine, alpha=0.5, color='purple')\n",
    "plt.title('Alcohol vs Quality')\n",
    "plt.show()\n",
    "\n",
    "# density vs residual sugar\n",
    "plt.figure(figsize=(10, 6))\n",
    "sns.scatterplot(x='residual sugar', y='density', data=white_wine, alpha=0.5, color='orange')\n",
    "plt.title('Residual Sugar vs Density')\n",
    "plt.show()"
   ]
  },
  {
   "cell_type": "code",
   "execution_count": null,
   "metadata": {},
   "outputs": [],
   "source": [
    "# select a subset of features for clarity\n",
    "subset = white_wine[['fixed acidity', 'volatile acidity', 'citric acid', 'alcohol', 'quality']]\n",
    "sns.pairplot(subset, hue='quality', palette='viridis')\n",
    "plt.suptitle('Pairwise Relationships of Selected Features', y=1.02)\n",
    "plt.show()"
   ]
  },
  {
   "cell_type": "markdown",
   "metadata": {},
   "source": [
    "# Normalization"
   ]
  },
  {
   "cell_type": "code",
   "execution_count": 14,
   "metadata": {},
   "outputs": [],
   "source": [
    "X = white_wine.drop('quality', axis=1)\n",
    "\n",
    "y = white_wine['quality']"
   ]
  },
  {
   "cell_type": "code",
   "execution_count": 15,
   "metadata": {},
   "outputs": [
    {
     "data": {
      "text/html": [
       "<div>\n",
       "<style scoped>\n",
       "    .dataframe tbody tr th:only-of-type {\n",
       "        vertical-align: middle;\n",
       "    }\n",
       "\n",
       "    .dataframe tbody tr th {\n",
       "        vertical-align: top;\n",
       "    }\n",
       "\n",
       "    .dataframe thead th {\n",
       "        text-align: right;\n",
       "    }\n",
       "</style>\n",
       "<table border=\"1\" class=\"dataframe\">\n",
       "  <thead>\n",
       "    <tr style=\"text-align: right;\">\n",
       "      <th></th>\n",
       "      <th>fixed acidity</th>\n",
       "      <th>volatile acidity</th>\n",
       "      <th>citric acid</th>\n",
       "      <th>residual sugar</th>\n",
       "      <th>chlorides</th>\n",
       "      <th>free sulfur dioxide</th>\n",
       "      <th>total sulfur dioxide</th>\n",
       "      <th>density</th>\n",
       "      <th>pH</th>\n",
       "      <th>sulphates</th>\n",
       "      <th>alcohol</th>\n",
       "    </tr>\n",
       "  </thead>\n",
       "  <tbody>\n",
       "    <tr>\n",
       "      <th>0</th>\n",
       "      <td>7.0</td>\n",
       "      <td>0.27</td>\n",
       "      <td>0.36</td>\n",
       "      <td>20.7</td>\n",
       "      <td>0.045</td>\n",
       "      <td>45.0</td>\n",
       "      <td>170.0</td>\n",
       "      <td>1.0010</td>\n",
       "      <td>3.00</td>\n",
       "      <td>0.45</td>\n",
       "      <td>8.8</td>\n",
       "    </tr>\n",
       "    <tr>\n",
       "      <th>1</th>\n",
       "      <td>6.3</td>\n",
       "      <td>0.30</td>\n",
       "      <td>0.34</td>\n",
       "      <td>1.6</td>\n",
       "      <td>0.049</td>\n",
       "      <td>14.0</td>\n",
       "      <td>132.0</td>\n",
       "      <td>0.9940</td>\n",
       "      <td>3.30</td>\n",
       "      <td>0.49</td>\n",
       "      <td>9.5</td>\n",
       "    </tr>\n",
       "    <tr>\n",
       "      <th>2</th>\n",
       "      <td>8.1</td>\n",
       "      <td>0.28</td>\n",
       "      <td>0.40</td>\n",
       "      <td>6.9</td>\n",
       "      <td>0.050</td>\n",
       "      <td>30.0</td>\n",
       "      <td>97.0</td>\n",
       "      <td>0.9951</td>\n",
       "      <td>3.26</td>\n",
       "      <td>0.44</td>\n",
       "      <td>10.1</td>\n",
       "    </tr>\n",
       "    <tr>\n",
       "      <th>3</th>\n",
       "      <td>7.2</td>\n",
       "      <td>0.23</td>\n",
       "      <td>0.32</td>\n",
       "      <td>8.5</td>\n",
       "      <td>0.058</td>\n",
       "      <td>47.0</td>\n",
       "      <td>186.0</td>\n",
       "      <td>0.9956</td>\n",
       "      <td>3.19</td>\n",
       "      <td>0.40</td>\n",
       "      <td>9.9</td>\n",
       "    </tr>\n",
       "    <tr>\n",
       "      <th>4</th>\n",
       "      <td>7.2</td>\n",
       "      <td>0.23</td>\n",
       "      <td>0.32</td>\n",
       "      <td>8.5</td>\n",
       "      <td>0.058</td>\n",
       "      <td>47.0</td>\n",
       "      <td>186.0</td>\n",
       "      <td>0.9956</td>\n",
       "      <td>3.19</td>\n",
       "      <td>0.40</td>\n",
       "      <td>9.9</td>\n",
       "    </tr>\n",
       "  </tbody>\n",
       "</table>\n",
       "</div>"
      ],
      "text/plain": [
       "   fixed acidity  volatile acidity  citric acid  residual sugar  chlorides  \\\n",
       "0            7.0              0.27         0.36            20.7      0.045   \n",
       "1            6.3              0.30         0.34             1.6      0.049   \n",
       "2            8.1              0.28         0.40             6.9      0.050   \n",
       "3            7.2              0.23         0.32             8.5      0.058   \n",
       "4            7.2              0.23         0.32             8.5      0.058   \n",
       "\n",
       "   free sulfur dioxide  total sulfur dioxide  density    pH  sulphates  \\\n",
       "0                 45.0                 170.0   1.0010  3.00       0.45   \n",
       "1                 14.0                 132.0   0.9940  3.30       0.49   \n",
       "2                 30.0                  97.0   0.9951  3.26       0.44   \n",
       "3                 47.0                 186.0   0.9956  3.19       0.40   \n",
       "4                 47.0                 186.0   0.9956  3.19       0.40   \n",
       "\n",
       "   alcohol  \n",
       "0      8.8  \n",
       "1      9.5  \n",
       "2     10.1  \n",
       "3      9.9  \n",
       "4      9.9  "
      ]
     },
     "execution_count": 15,
     "metadata": {},
     "output_type": "execute_result"
    }
   ],
   "source": [
    "X.head()"
   ]
  },
  {
   "cell_type": "code",
   "execution_count": 16,
   "metadata": {},
   "outputs": [
    {
     "data": {
      "text/plain": [
       "0    6\n",
       "1    6\n",
       "2    6\n",
       "3    6\n",
       "4    6\n",
       "Name: quality, dtype: int64"
      ]
     },
     "execution_count": 16,
     "metadata": {},
     "output_type": "execute_result"
    }
   ],
   "source": [
    "y.head()"
   ]
  },
  {
   "cell_type": "markdown",
   "metadata": {},
   "source": [
    "## Range Scaling"
   ]
  },
  {
   "cell_type": "code",
   "execution_count": 17,
   "metadata": {},
   "outputs": [],
   "source": [
    "means = np.array(X.mean())\n",
    "mins = np.array(X.min())\n",
    "maxs = np.array(X.max())  \n",
    "\n",
    "X_range =  X\n",
    "\n",
    "for index, row in X_range.iterrows():\n",
    "    X_range.loc[index] = (row - means) / (maxs - mins)\n"
   ]
  },
  {
   "cell_type": "code",
   "execution_count": 18,
   "metadata": {},
   "outputs": [
    {
     "data": {
      "text/html": [
       "<div>\n",
       "<style scoped>\n",
       "    .dataframe tbody tr th:only-of-type {\n",
       "        vertical-align: middle;\n",
       "    }\n",
       "\n",
       "    .dataframe tbody tr th {\n",
       "        vertical-align: top;\n",
       "    }\n",
       "\n",
       "    .dataframe thead th {\n",
       "        text-align: right;\n",
       "    }\n",
       "</style>\n",
       "<table border=\"1\" class=\"dataframe\">\n",
       "  <thead>\n",
       "    <tr style=\"text-align: right;\">\n",
       "      <th></th>\n",
       "      <th>fixed acidity</th>\n",
       "      <th>volatile acidity</th>\n",
       "      <th>citric acid</th>\n",
       "      <th>residual sugar</th>\n",
       "      <th>chlorides</th>\n",
       "      <th>free sulfur dioxide</th>\n",
       "      <th>total sulfur dioxide</th>\n",
       "      <th>density</th>\n",
       "      <th>pH</th>\n",
       "      <th>sulphates</th>\n",
       "      <th>alcohol</th>\n",
       "    </tr>\n",
       "  </thead>\n",
       "  <tbody>\n",
       "    <tr>\n",
       "      <th>0</th>\n",
       "      <td>0.013963</td>\n",
       "      <td>-0.008080</td>\n",
       "      <td>0.015547</td>\n",
       "      <td>0.219457</td>\n",
       "      <td>-0.002292</td>\n",
       "      <td>0.033770</td>\n",
       "      <td>0.073409</td>\n",
       "      <td>0.134425</td>\n",
       "      <td>-0.171151</td>\n",
       "      <td>-0.046334</td>\n",
       "      <td>-0.276495</td>\n",
       "    </tr>\n",
       "    <tr>\n",
       "      <th>1</th>\n",
       "      <td>-0.053345</td>\n",
       "      <td>0.021332</td>\n",
       "      <td>0.003499</td>\n",
       "      <td>-0.073488</td>\n",
       "      <td>0.009578</td>\n",
       "      <td>-0.074244</td>\n",
       "      <td>-0.014758</td>\n",
       "      <td>-0.000528</td>\n",
       "      <td>0.101576</td>\n",
       "      <td>0.000178</td>\n",
       "      <td>-0.163591</td>\n",
       "    </tr>\n",
       "    <tr>\n",
       "      <th>2</th>\n",
       "      <td>0.119732</td>\n",
       "      <td>0.001724</td>\n",
       "      <td>0.039644</td>\n",
       "      <td>0.007800</td>\n",
       "      <td>0.012545</td>\n",
       "      <td>-0.018495</td>\n",
       "      <td>-0.095964</td>\n",
       "      <td>0.020679</td>\n",
       "      <td>0.065212</td>\n",
       "      <td>-0.057961</td>\n",
       "      <td>-0.066817</td>\n",
       "    </tr>\n",
       "    <tr>\n",
       "      <th>3</th>\n",
       "      <td>0.033193</td>\n",
       "      <td>-0.047295</td>\n",
       "      <td>-0.008549</td>\n",
       "      <td>0.032340</td>\n",
       "      <td>0.036284</td>\n",
       "      <td>0.040738</td>\n",
       "      <td>0.110532</td>\n",
       "      <td>0.030319</td>\n",
       "      <td>0.001576</td>\n",
       "      <td>-0.104473</td>\n",
       "      <td>-0.099075</td>\n",
       "    </tr>\n",
       "    <tr>\n",
       "      <th>4</th>\n",
       "      <td>0.033193</td>\n",
       "      <td>-0.047295</td>\n",
       "      <td>-0.008549</td>\n",
       "      <td>0.032340</td>\n",
       "      <td>0.036284</td>\n",
       "      <td>0.040738</td>\n",
       "      <td>0.110532</td>\n",
       "      <td>0.030319</td>\n",
       "      <td>0.001576</td>\n",
       "      <td>-0.104473</td>\n",
       "      <td>-0.099075</td>\n",
       "    </tr>\n",
       "  </tbody>\n",
       "</table>\n",
       "</div>"
      ],
      "text/plain": [
       "   fixed acidity  volatile acidity  citric acid  residual sugar  chlorides  \\\n",
       "0       0.013963         -0.008080     0.015547        0.219457  -0.002292   \n",
       "1      -0.053345          0.021332     0.003499       -0.073488   0.009578   \n",
       "2       0.119732          0.001724     0.039644        0.007800   0.012545   \n",
       "3       0.033193         -0.047295    -0.008549        0.032340   0.036284   \n",
       "4       0.033193         -0.047295    -0.008549        0.032340   0.036284   \n",
       "\n",
       "   free sulfur dioxide  total sulfur dioxide   density        pH  sulphates  \\\n",
       "0             0.033770              0.073409  0.134425 -0.171151  -0.046334   \n",
       "1            -0.074244             -0.014758 -0.000528  0.101576   0.000178   \n",
       "2            -0.018495             -0.095964  0.020679  0.065212  -0.057961   \n",
       "3             0.040738              0.110532  0.030319  0.001576  -0.104473   \n",
       "4             0.040738              0.110532  0.030319  0.001576  -0.104473   \n",
       "\n",
       "    alcohol  \n",
       "0 -0.276495  \n",
       "1 -0.163591  \n",
       "2 -0.066817  \n",
       "3 -0.099075  \n",
       "4 -0.099075  "
      ]
     },
     "execution_count": 18,
     "metadata": {},
     "output_type": "execute_result"
    }
   ],
   "source": [
    "X_range.head()"
   ]
  },
  {
   "cell_type": "markdown",
   "metadata": {},
   "source": [
    "## Standardization"
   ]
  },
  {
   "cell_type": "code",
   "execution_count": 19,
   "metadata": {},
   "outputs": [],
   "source": [
    "zscore_scaler = StandardScaler()\n",
    "zscore_array = zscore_scaler.fit_transform(X)\n",
    "X_zscore = pd.DataFrame(zscore_array, columns=X.columns)"
   ]
  },
  {
   "cell_type": "code",
   "execution_count": 20,
   "metadata": {},
   "outputs": [
    {
     "data": {
      "text/html": [
       "<div>\n",
       "<style scoped>\n",
       "    .dataframe tbody tr th:only-of-type {\n",
       "        vertical-align: middle;\n",
       "    }\n",
       "\n",
       "    .dataframe tbody tr th {\n",
       "        vertical-align: top;\n",
       "    }\n",
       "\n",
       "    .dataframe thead th {\n",
       "        text-align: right;\n",
       "    }\n",
       "</style>\n",
       "<table border=\"1\" class=\"dataframe\">\n",
       "  <thead>\n",
       "    <tr style=\"text-align: right;\">\n",
       "      <th></th>\n",
       "      <th>fixed acidity</th>\n",
       "      <th>volatile acidity</th>\n",
       "      <th>citric acid</th>\n",
       "      <th>residual sugar</th>\n",
       "      <th>chlorides</th>\n",
       "      <th>free sulfur dioxide</th>\n",
       "      <th>total sulfur dioxide</th>\n",
       "      <th>density</th>\n",
       "      <th>pH</th>\n",
       "      <th>sulphates</th>\n",
       "      <th>alcohol</th>\n",
       "    </tr>\n",
       "  </thead>\n",
       "  <tbody>\n",
       "    <tr>\n",
       "      <th>0</th>\n",
       "      <td>0.172097</td>\n",
       "      <td>-0.081770</td>\n",
       "      <td>0.213280</td>\n",
       "      <td>2.821349</td>\n",
       "      <td>-0.035355</td>\n",
       "      <td>0.569932</td>\n",
       "      <td>0.744565</td>\n",
       "      <td>2.331512</td>\n",
       "      <td>-1.246921</td>\n",
       "      <td>-0.349184</td>\n",
       "      <td>-1.393152</td>\n",
       "    </tr>\n",
       "    <tr>\n",
       "      <th>1</th>\n",
       "      <td>-0.657501</td>\n",
       "      <td>0.215896</td>\n",
       "      <td>0.048001</td>\n",
       "      <td>-0.944765</td>\n",
       "      <td>0.147747</td>\n",
       "      <td>-1.253019</td>\n",
       "      <td>-0.149685</td>\n",
       "      <td>-0.009154</td>\n",
       "      <td>0.740029</td>\n",
       "      <td>0.001342</td>\n",
       "      <td>-0.824276</td>\n",
       "    </tr>\n",
       "    <tr>\n",
       "      <th>2</th>\n",
       "      <td>1.475751</td>\n",
       "      <td>0.017452</td>\n",
       "      <td>0.543838</td>\n",
       "      <td>0.100282</td>\n",
       "      <td>0.193523</td>\n",
       "      <td>-0.312141</td>\n",
       "      <td>-0.973336</td>\n",
       "      <td>0.358665</td>\n",
       "      <td>0.475102</td>\n",
       "      <td>-0.436816</td>\n",
       "      <td>-0.336667</td>\n",
       "    </tr>\n",
       "    <tr>\n",
       "      <th>3</th>\n",
       "      <td>0.409125</td>\n",
       "      <td>-0.478657</td>\n",
       "      <td>-0.117278</td>\n",
       "      <td>0.415768</td>\n",
       "      <td>0.559727</td>\n",
       "      <td>0.687541</td>\n",
       "      <td>1.121091</td>\n",
       "      <td>0.525855</td>\n",
       "      <td>0.011480</td>\n",
       "      <td>-0.787342</td>\n",
       "      <td>-0.499203</td>\n",
       "    </tr>\n",
       "    <tr>\n",
       "      <th>4</th>\n",
       "      <td>0.409125</td>\n",
       "      <td>-0.478657</td>\n",
       "      <td>-0.117278</td>\n",
       "      <td>0.415768</td>\n",
       "      <td>0.559727</td>\n",
       "      <td>0.687541</td>\n",
       "      <td>1.121091</td>\n",
       "      <td>0.525855</td>\n",
       "      <td>0.011480</td>\n",
       "      <td>-0.787342</td>\n",
       "      <td>-0.499203</td>\n",
       "    </tr>\n",
       "  </tbody>\n",
       "</table>\n",
       "</div>"
      ],
      "text/plain": [
       "   fixed acidity  volatile acidity  citric acid  residual sugar  chlorides  \\\n",
       "0       0.172097         -0.081770     0.213280        2.821349  -0.035355   \n",
       "1      -0.657501          0.215896     0.048001       -0.944765   0.147747   \n",
       "2       1.475751          0.017452     0.543838        0.100282   0.193523   \n",
       "3       0.409125         -0.478657    -0.117278        0.415768   0.559727   \n",
       "4       0.409125         -0.478657    -0.117278        0.415768   0.559727   \n",
       "\n",
       "   free sulfur dioxide  total sulfur dioxide   density        pH  sulphates  \\\n",
       "0             0.569932              0.744565  2.331512 -1.246921  -0.349184   \n",
       "1            -1.253019             -0.149685 -0.009154  0.740029   0.001342   \n",
       "2            -0.312141             -0.973336  0.358665  0.475102  -0.436816   \n",
       "3             0.687541              1.121091  0.525855  0.011480  -0.787342   \n",
       "4             0.687541              1.121091  0.525855  0.011480  -0.787342   \n",
       "\n",
       "    alcohol  \n",
       "0 -1.393152  \n",
       "1 -0.824276  \n",
       "2 -0.336667  \n",
       "3 -0.499203  \n",
       "4 -0.499203  "
      ]
     },
     "execution_count": 20,
     "metadata": {},
     "output_type": "execute_result"
    }
   ],
   "source": [
    "X_zscore.head()"
   ]
  },
  {
   "cell_type": "markdown",
   "metadata": {},
   "source": [
    "# Fuzzy c-Means (FCM)"
   ]
  },
  {
   "cell_type": "code",
   "execution_count": 120,
   "metadata": {},
   "outputs": [
    {
     "name": "stdout",
     "output_type": "stream",
     "text": [
      "278.61717481099026 278.61717481099026\n",
      "160.1392526746504 160.1392526746504\n",
      "110.43360987960462 110.43360987960462\n",
      "83.88767385126998 83.88767385126998\n",
      "57.36544489340619 57.36544489340619\n",
      "46.631731231234205 46.631731231234205\n",
      "48.49783236418935 48.49783236418935\n",
      "33.91621519359835 33.91621519359835\n"
     ]
    }
   ],
   "source": [
    "c_min, c_max = 2, 10\n",
    "cost_values = []\n",
    "\n",
    "\n",
    "# Iterar sobre diferentes números de clusters\n",
    "for c in range(c_min, c_max):\n",
    "    # Aplicar Fuzzy C-Means\n",
    "    cntr, u, _, _, jm, _, _ = fuzz.cluster.cmeans(\n",
    "        X_range, c, m=2, error=0.005, maxiter=1000, init=None\n",
    "    )\n",
    "    print(min(jm), jm[-1])\n",
    "    cost_values.append(min(jm))  # Armazenar o custo final\n",
    "\n",
    "# Converter os custos em um DataFrame para melhor visualização\n",
    "#cost_df = pd.DataFrame({'Número de Clusters (c)': range(c_min, c_max), 'Custo Final': cost_values})\n",
    "\n",
    "# Exibir os primeiros valores (ou todos, se necessário)\n",
    "#print(cost_df)\n",
    "    "
   ]
  },
  {
   "cell_type": "code",
   "execution_count": 121,
   "metadata": {},
   "outputs": [
    {
     "data": {
      "image/png": "[encoded data removed]",
      "text/plain": [
       "<Figure size 800x500 with 1 Axes>"
      ]
     },
     "metadata": {},
     "output_type": "display_data"
    }
   ],
   "source": [
    "import matplotlib.pyplot as plt\n",
    "\n",
    "plt.figure(figsize=(8,5))\n",
    "plt.plot(range(c_min, c_max), cost_values, marker='o', linestyle='-')\n",
    "plt.xlabel(\"Número de Clusters (c)\")\n",
    "plt.ylabel(\"FCM Cost Function\")\n",
    "plt.title(\"Custo Final vs. Número de Clusters\")\n",
    "plt.grid()\n",
    "plt.show()\n"
   ]
  },
  {
   "cell_type": "markdown",
   "metadata": {},
   "source": [
    "### Find best C\n",
    "for range and z-score"
   ]
  },
  {
   "cell_type": "code",
   "execution_count": 61,
   "metadata": {},
   "outputs": [],
   "source": [
    "def best_c_clusters(X_range, c_min=2, c_max=8, num_seeds=50):\n",
    "    best_c_count = {c: 0 for c in range(c_min, c_max)}  # Contador para cada número de clusters\n",
    "    \n",
    "    # Gerar várias seeds\n",
    "    for seed in range(num_seeds):\n",
    "        cost_values = []\n",
    "        \n",
    "        # Iterar sobre diferentes números de clusters entre c_min e c_max\n",
    "        for c in range(c_min, c_max):\n",
    "            # Aplicar Fuzzy C-Means\n",
    "            cntr, u, _, _, cost, _, _ = fuzz.cluster.cmeans(\n",
    "                X_range, c, m=2, error=0.005, maxiter=1000, init=None\n",
    "            )\n",
    "            \n",
    "            cost_values.append(cost[-1])  # Armazenar o custo final\n",
    "        \n",
    "        # Encontrar o número de clusters com o menor custo entre 3 e 8\n",
    "        best_c = np.argmin(cost_values)\n",
    "        \n",
    "        # Verificar se o best_c está dentro do intervalo permitido (3 a 8)\n",
    "        if c_min <= best_c <= c_max+1:\n",
    "            best_c_count[best_c] += 1\n",
    "        \n",
    "    for c in range(c_min, c_max+1):\n",
    "        print(f\"c = {c}: {best_c_count[c]} vezes\")"
   ]
  },
  {
   "cell_type": "code",
   "execution_count": 62,
   "metadata": {},
   "outputs": [
    {
     "data": {
      "text/plain": [
       "35.986368239397414"
      ]
     },
     "execution_count": 62,
     "metadata": {},
     "output_type": "execute_result"
    }
   ],
   "source": [
    "np.mean(cost[-1])"
   ]
  },
  {
   "cell_type": "code",
   "execution_count": 63,
   "metadata": {},
   "outputs": [],
   "source": [
    "def show_best_c_clusters(X, c_min=2, c_max=8, n_seeds=50):\n",
    "    \n",
    "    best_c_counts = {c: 0 for c in range(c_min, c_max + 1)} # initialize dictionary with c=3 to c=8 with 0s\n",
    "\n",
    "    for seed in range(n_seeds):\n",
    "        print(f\"Seed {seed+1} / \", n_seeds, \" ...\")   # process displayer\n",
    "        np.random.seed(seed)\n",
    "        mean_costs = []\n",
    "\n",
    "        for c in range(c_min, c_max + 1):\n",
    "            cntr, u, _, _, cost, _, _ = fuzz.cluster.cmeans(\n",
    "                X, c, m=2, error=0.005, maxiter=1000, init=None\n",
    "            )\n",
    "            mean_costs.append(np.mean(cost[-1]))\n",
    "        \n",
    "        # find best C for this current seed (with lowest mean cost)\n",
    "        best_c = np.argmin(mean_costs) + c_min\n",
    "        \n",
    "        if c_min <= best_c <= c_max:\n",
    "            best_c_counts[best_c] += 1 # increse count\n",
    "\n",
    "    for c in range(c_min, c_max+1): # show results c by c\n",
    "        print(c, \": \", best_c_counts[c])"
   ]
  },
  {
   "cell_type": "code",
   "execution_count": 64,
   "metadata": {},
   "outputs": [
    {
     "name": "stdout",
     "output_type": "stream",
     "text": [
      "Seed 1 /  50  ...\n",
      "Seed 2 /  50  ...\n",
      "Seed 3 /  50  ...\n",
      "Seed 4 /  50  ...\n",
      "Seed 5 /  50  ...\n",
      "Seed 6 /  50  ...\n",
      "Seed 7 /  50  ...\n",
      "Seed 8 /  50  ...\n",
      "Seed 9 /  50  ...\n",
      "Seed 10 /  50  ...\n",
      "Seed 11 /  50  ...\n",
      "Seed 12 /  50  ...\n",
      "Seed 13 /  50  ...\n",
      "Seed 14 /  50  ...\n",
      "Seed 15 /  50  ...\n",
      "Seed 16 /  50  ...\n",
      "Seed 17 /  50  ...\n",
      "Seed 18 /  50  ...\n",
      "Seed 19 /  50  ...\n",
      "Seed 20 /  50  ...\n",
      "Seed 21 /  50  ...\n",
      "Seed 22 /  50  ...\n",
      "Seed 23 /  50  ...\n",
      "Seed 24 /  50  ...\n",
      "Seed 25 /  50  ...\n",
      "Seed 26 /  50  ...\n",
      "Seed 27 /  50  ...\n",
      "Seed 28 /  50  ...\n",
      "Seed 29 /  50  ...\n",
      "Seed 30 /  50  ...\n",
      "Seed 31 /  50  ...\n",
      "Seed 32 /  50  ...\n",
      "Seed 33 /  50  ...\n",
      "Seed 34 /  50  ...\n",
      "Seed 35 /  50  ...\n",
      "Seed 36 /  50  ...\n",
      "Seed 37 /  50  ...\n",
      "Seed 38 /  50  ...\n",
      "Seed 39 /  50  ...\n",
      "Seed 40 /  50  ...\n",
      "Seed 41 /  50  ...\n",
      "Seed 42 /  50  ...\n",
      "Seed 43 /  50  ...\n",
      "Seed 44 /  50  ...\n",
      "Seed 45 /  50  ...\n",
      "Seed 46 /  50  ...\n",
      "Seed 47 /  50  ...\n",
      "Seed 48 /  50  ...\n",
      "Seed 49 /  50  ...\n",
      "Seed 50 /  50  ...\n",
      "2 :  0\n",
      "3 :  0\n",
      "4 :  0\n",
      "5 :  0\n",
      "6 :  0\n",
      "7 :  5\n",
      "8 :  45\n"
     ]
    }
   ],
   "source": [
    "show_best_c_clusters(X_range)"
   ]
  },
  {
   "cell_type": "code",
   "execution_count": 65,
   "metadata": {},
   "outputs": [
    {
     "name": "stdout",
     "output_type": "stream",
     "text": [
      "Seed 1 /  50  ...\n",
      "Seed 2 /  50  ...\n",
      "Seed 3 /  50  ...\n",
      "Seed 4 /  50  ...\n",
      "Seed 5 /  50  ...\n",
      "Seed 6 /  50  ...\n",
      "Seed 7 /  50  ...\n",
      "Seed 8 /  50  ...\n",
      "Seed 9 /  50  ...\n",
      "Seed 10 /  50  ...\n",
      "Seed 11 /  50  ...\n",
      "Seed 12 /  50  ...\n",
      "Seed 13 /  50  ...\n",
      "Seed 14 /  50  ...\n",
      "Seed 15 /  50  ...\n",
      "Seed 16 /  50  ...\n",
      "Seed 17 /  50  ...\n",
      "Seed 18 /  50  ...\n",
      "Seed 19 /  50  ...\n",
      "Seed 20 /  50  ...\n",
      "Seed 21 /  50  ...\n",
      "Seed 22 /  50  ...\n",
      "Seed 23 /  50  ...\n",
      "Seed 24 /  50  ...\n",
      "Seed 25 /  50  ...\n",
      "Seed 26 /  50  ...\n",
      "Seed 27 /  50  ...\n",
      "Seed 28 /  50  ...\n",
      "Seed 29 /  50  ...\n",
      "Seed 30 /  50  ...\n",
      "Seed 31 /  50  ...\n",
      "Seed 32 /  50  ...\n",
      "Seed 33 /  50  ...\n",
      "Seed 34 /  50  ...\n",
      "Seed 35 /  50  ...\n",
      "Seed 36 /  50  ...\n",
      "Seed 37 /  50  ...\n",
      "Seed 38 /  50  ...\n",
      "Seed 39 /  50  ...\n",
      "Seed 40 /  50  ...\n",
      "Seed 41 /  50  ...\n",
      "Seed 42 /  50  ...\n",
      "Seed 43 /  50  ...\n",
      "Seed 44 /  50  ...\n",
      "Seed 45 /  50  ...\n",
      "Seed 46 /  50  ...\n",
      "Seed 47 /  50  ...\n",
      "Seed 48 /  50  ...\n",
      "Seed 49 /  50  ...\n",
      "Seed 50 /  50  ...\n",
      "2 :  0\n",
      "3 :  0\n",
      "4 :  0\n",
      "5 :  0\n",
      "6 :  0\n",
      "7 :  4\n",
      "8 :  46\n"
     ]
    }
   ],
   "source": [
    "show_best_c_clusters(X_zscore)"
   ]
  },
  {
   "cell_type": "markdown",
   "metadata": {},
   "source": [
    "## Anomalous Pattern (IAP) clustering algorithm"
   ]
  },
  {
   "cell_type": "code",
   "execution_count": 28,
   "metadata": {},
   "outputs": [],
   "source": [
    "## Anomalous Pattern Algorithm\n",
    "\n",
    "def center_(x, cluster):\n",
    "    \"\"\" \n",
    "    Calculates the centroid of the cluster.\n",
    "    \"\"\"\n",
    "    mm = x.shape[1]\n",
    "    centroidC = []\n",
    "    \n",
    "    for j in range(mm):\n",
    "        zz = x[:, j]\n",
    "        zc = [zz[i] for i in cluster]\n",
    "        centroidC.append(np.mean(zc))\n",
    "    return centroidC\n",
    "\n",
    "def distNorm(x, remains, ranges, p):\n",
    "    \"\"\" \n",
    "    Finds the normalized distances of data points in 'remains' to reference point 'p'.  \n",
    "    \"\"\"\n",
    "    mm = x.shape[1]\n",
    "    rr = len(remains)    \n",
    "    z = x[remains, :]\n",
    "    az = np.tile(np.array(p), (rr, 1))     \n",
    "    rz = np.tile(np.array(ranges), (rr, 1))\n",
    "    dz = (z - az) / rz\n",
    "    dz = np.array(dz)\n",
    "    ddz = dz * dz\n",
    "    if mm > 1:\n",
    "        di = sum(ddz.T)\n",
    "    else:\n",
    "        di = ddz.T\n",
    "    return di\n",
    "\n",
    "def separCluster(x0, remains, ranges, a, b):\n",
    "    \"\"\"  \n",
    "    Builds a cluster by splitting the points around reference point 'a' from those around 'b'.  \n",
    "    \"\"\"\n",
    "    dista = distNorm(x0, remains, ranges, a)\n",
    "    distb = distNorm(x0, remains, ranges, b)\n",
    "    clus = np.where(dista < distb)[0]\n",
    "    return [remains[i] for i in clus]\n",
    "\n",
    "def anomalousPattern(x, remains, ranges, centroid, me):\n",
    "    \"\"\"  \n",
    "    Builds one anomalous cluster based on the Separate/Conquer method.  \n",
    "    \"\"\"\n",
    "    key = 1\n",
    "    while key == 1:\n",
    "        cluster = separCluster(x, remains, ranges, centroid, me)\n",
    "        if len(cluster) != 0:\n",
    "            newcenter = center_(x, cluster)\n",
    "        if len([i for i, j in zip(centroid, newcenter) if i == j]) != len(centroid):\n",
    "            centroid = newcenter\n",
    "        else:\n",
    "            key = 0\n",
    "    return (cluster, centroid)\n",
    "\n",
    "def dist(x, remains, ranges, p):\n",
    "    \"\"\" \n",
    "    Calculates the normalized distances of data points in 'remains' to reference point 'p'.   \n",
    "    \"\"\"\n",
    "    mm = x.shape[1]      \n",
    "    rr = len(remains)    \n",
    "    distan = np.zeros((rr,1))    \n",
    "    for j in range(mm):\n",
    "        z = x[:, j].reshape((-1,1))\n",
    "        zz = z[remains]\n",
    "        y = (zz - p[j]) / ranges[j]\n",
    "        yy = y * y\n",
    "        distan = distan + yy\n",
    "    return distan"
   ]
  },
  {
   "cell_type": "code",
   "execution_count": 29,
   "metadata": {},
   "outputs": [],
   "source": [
    "##### ****** Main body for the Iterative Anomalous Cluster Algorithm  *****\n",
    "\n",
    "# Normalization FLAG (mantido, pode ser ajustado)\n",
    "normalization = 0\n",
    "\n",
    "# Threshold de cardinalidade do cluster\n",
    "threshold = 25\n",
    "\n",
    "x = X_zscore.values.astype(np.float32)\n",
    "\n",
    "nn = x.shape[0]\n",
    "mm = x.shape[1]\n",
    "\n",
    "# grand means\n",
    "me = []\n",
    "# maximum value\n",
    "mmax = []\n",
    "# minimum value\n",
    "mmin = []\n",
    "# ranges\n",
    "ranges = []\n",
    "# \"anomalous cluster\" ancl is the data structure to keep everything together\n",
    "ancl = []\n",
    "\n",
    "\n",
    "for j in range(mm): # for each feature\n",
    "    z = x[:, j]     # data column vector j-th feature\n",
    "    me.append(np.mean(z))\n",
    "    mmax.append(np.max(z))\n",
    "    mmin.append(np.min(z))\n",
    "    if normalization:\n",
    "        ranges.append(1)\n",
    "    else:\n",
    "        ranges.append(mmax[j] - mmin[j])\n",
    "    if ranges[j] == 0:\n",
    "        print(\"Variable num {} is contant!\".format(j))\n",
    "        ranges[j] = 1\n",
    "    \n",
    "sy = np.divide((x - me), ranges)\n",
    "sY = np.array(sy)\n",
    "d = np.sum(sY * sY)   # total data scatter of normalized data"
   ]
  },
  {
   "cell_type": "code",
   "execution_count": 30,
   "metadata": {},
   "outputs": [],
   "source": [
    "remains = list(range(nn))  \n",
    "ancl = []  \n",
    "numberC = 0  \n",
    "\n",
    "while len(remains) != 0:\n",
    "    distance = dist(x, remains, ranges, me)\n",
    "    index = remains[np.argmax(distance)]\n",
    "    centroid = x[index, :]\n",
    "    numberC += 1\n",
    "    \n",
    "    (cluster, centroid) = anomalousPattern(x, remains, ranges, centroid, me)\n",
    "    \n",
    "    censtand = (np.asarray(centroid) - me) / np.asarray(ranges)   \n",
    "    dD = np.sum((censtand * censtand.T * len(cluster) * 100) / d)  \n",
    "\n",
    "    remains = np.setdiff1d(remains, cluster) \n",
    "    ancl.append((cluster, censtand, dD))  \n",
    "\n",
    "# **Evita o erro de conversão**\n",
    "clusters_list = [c[0] for c in ancl]   # Lista de clusters\n",
    "centroids_list = np.array([c[1] for c in ancl])  # Matriz de centróides\n",
    "dD_list = np.array([c[2] for c in ancl])  # Matriz de dD\n",
    "\n",
    "## *** Substituir np.asarray(ancl) por listas separadas ***\n",
    "numberC = len(clusters_list)  # Atualiza número de clusters\n",
    "\n",
    "b = 3\n",
    "ll = [len(cluster) for cluster in clusters_list]  # Lista com tamanhos dos clusters\n",
    "\n",
    "rl = [i for i in ll if i >= threshold]  # Clusters que atendem ao threshold\n",
    "cent = []\n",
    "\n",
    "if len(rl) == 0:\n",
    "    print('Too great a threshold!!!')\n",
    "else:\n",
    "    num_cents = 0\n",
    "    for ik in range(numberC):\n",
    "        if len(clusters_list[ik]) >= threshold:\n",
    "            cent.append(centroids_list[ik])\n",
    "            num_cents += 1\n",
    "\n",
    "cent = np.asarray(cent)"
   ]
  },
  {
   "cell_type": "code",
   "execution_count": 31,
   "metadata": {},
   "outputs": [],
   "source": [
    "zscor_data = np.column_stack((X_zscore, y))  # Junta `y` como última coluna\n",
    "\n",
    "# make pca data the same for now...\n",
    "zscor_data_pca = zscor_data"
   ]
  },
  {
   "cell_type": "code",
   "execution_count": 32,
   "metadata": {},
   "outputs": [
    {
     "data": {
      "text/plain": [
       "array([ 0.17209696, -0.0817699 ,  0.2132802 ,  2.82134917, -0.035355  ,\n",
       "        0.56993158,  0.74456503,  2.33151201, -1.24692128, -0.34918426,\n",
       "       -1.39315246,  6.        ])"
      ]
     },
     "execution_count": 32,
     "metadata": {},
     "output_type": "execute_result"
    }
   ],
   "source": [
    "zscor_data_pca[0]"
   ]
  },
  {
   "cell_type": "code",
   "execution_count": 33,
   "metadata": {},
   "outputs": [
    {
     "ename": "AttributeError",
     "evalue": "'numpy.ndarray' object has no attribute 'columns'",
     "output_type": "error",
     "traceback": [
      "\u001b[1;31m---------------------------------------------------------------------------\u001b[0m",
      "\u001b[1;31mAttributeError\u001b[0m                            Traceback (most recent call last)",
      "Cell \u001b[1;32mIn[33], line 3\u001b[0m\n\u001b[0;32m      1\u001b[0m \u001b[38;5;66;03m## Should be adapted:\u001b[39;00m\n\u001b[0;32m      2\u001b[0m DECIMAL_PLACES\u001b[38;5;241m=\u001b[39m\u001b[38;5;241m3\u001b[39m\n\u001b[1;32m----> 3\u001b[0m cent \u001b[38;5;241m=\u001b[39m cent\u001b[38;5;241m.\u001b[39mreshape((\u001b[38;5;28mlen\u001b[39m(cent), \u001b[38;5;28mlen\u001b[39m(zscor_data_pca\u001b[38;5;241m.\u001b[39mcolumns) \u001b[38;5;241m-\u001b[39m \u001b[38;5;241m1\u001b[39m)) \u001b[38;5;66;03m# FAZER JÁ PCA?????\u001b[39;00m\n\u001b[0;32m      4\u001b[0m \u001b[38;5;28mprint\u001b[39m(\u001b[38;5;124m\"\u001b[39m\u001b[38;5;124mInitial prototypes: \u001b[39m\u001b[38;5;130;01m\\n\u001b[39;00m\u001b[38;5;124m\"\u001b[39m, np\u001b[38;5;241m.\u001b[39mround(cent, DECIMAL_PLACES))\n\u001b[0;32m      5\u001b[0m init_partition \u001b[38;5;241m=\u001b[39m np\u001b[38;5;241m.\u001b[39mzeros((zscor_data_pca\u001b[38;5;241m.\u001b[39mshape[\u001b[38;5;241m0\u001b[39m], \u001b[38;5;28mlen\u001b[39m(cent)))\n",
      "\u001b[1;31mAttributeError\u001b[0m: 'numpy.ndarray' object has no attribute 'columns'"
     ]
    }
   ],
   "source": [
    "## Should be adapted:\n",
    "DECIMAL_PLACES=3\n",
    "cent = cent.reshape((len(cent), len(zscor_data_pca.columns) - 1)) # FAZER JÁ PCA?????\n",
    "print(\"Initial prototypes: \\n\", np.round(cent, DECIMAL_PLACES))\n",
    "init_partition = np.zeros((zscor_data_pca.shape[0], len(cent)))\n",
    "\n",
    "for index, d in enumerate(zscor_data):\n",
    "   dists = [np.linalg.norm(d - c) for c in cent]\n",
    "   assign = dists.index(np.min(dists))\n",
    "   init_partition[index, assign] = 1"
   ]
  },
  {
   "cell_type": "markdown",
   "metadata": {},
   "source": [
    "# All data - white + red wine"
   ]
  },
  {
   "cell_type": "code",
   "execution_count": null,
   "metadata": {},
   "outputs": [],
   "source": [
    "# ..."
   ]
  }
 ],
 "metadata": {
  "kernelspec": {
   "display_name": "Python 3",
   "language": "python",
   "name": "python3"
  },
  "language_info": {
   "codemirror_mode": {
    "name": "ipython",
    "version": 3
   },
   "file_extension": ".py",
   "mimetype": "text/x-python",
   "name": "python",
   "nbconvert_exporter": "python",
   "pygments_lexer": "ipython3",
   "version": "3.11.9"
  }
 },
 "nbformat": 4,
 "nbformat_minor": 2
}
