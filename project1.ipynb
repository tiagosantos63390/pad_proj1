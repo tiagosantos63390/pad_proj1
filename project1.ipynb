{
 "cells": [
  {
   "cell_type": "code",
   "execution_count": 6,
   "metadata": {},
   "outputs": [],
   "source": [
    "import pandas as pd\n",
    "import numpy as np\n",
    "import matplotlib.pyplot as plt\n",
    "import seaborn as sns\n",
    "import skfuzzy as fuzz\n",
    "import networkx as nx\n",
    "\n",
    "from sklearn.decomposition import PCA\n",
    "from sklearn.metrics import silhouette_score, normalized_mutual_info_score\n",
    "from mpl_toolkits.mplot3d import Axes3D\n",
    "from sklearn.preprocessing import MinMaxScaler, StandardScaler\n",
    "from scipy.spatial.distance import cdist, pdist, squareform\n",
    "from itertools import combinations\n",
    "from ClustersFeatures import *\n",
    "from networkx.algorithms.community import modularity\n",
    "from sklearn.cluster import KMeans\n",
    "\n",
    "import warnings\n",
    "warnings.filterwarnings(\"ignore\")"
   ]
  },
  {
   "cell_type": "code",
   "execution_count": 7,
   "metadata": {},
   "outputs": [],
   "source": [
    "# load datasets\n",
    "white_wine = pd.read_csv('winequality-white.csv', sep=';')\n",
    "red_wine = pd.read_csv('winequality-red.csv', sep=';')"
   ]
  },
  {
   "cell_type": "markdown",
   "metadata": {},
   "source": [
    "# Part I"
   ]
  },
  {
   "cell_type": "markdown",
   "metadata": {},
   "source": [
    "## Exploratory Data Analysis"
   ]
  },
  {
   "cell_type": "code",
   "execution_count": null,
   "metadata": {},
   "outputs": [],
   "source": [
    "# display basic info\n",
    "print(\"=== Dataset Information ===\")\n",
    "white_wine.info()\n",
    "\n",
    "# display summary statistics\n",
    "print(\"\\n=== Summary Statistics ===\")\n",
    "print(white_wine.describe())\n",
    "\n",
    "# check for missing values\n",
    "print(\"\\n=== Missing Values ===\")\n",
    "print(white_wine.isnull().sum())"
   ]
  },
  {
   "cell_type": "markdown",
   "metadata": {},
   "source": [
    "### Univariate Analysis"
   ]
  },
  {
   "cell_type": "code",
   "execution_count": null,
   "metadata": {},
   "outputs": [],
   "source": [
    "\"\"\" features - distribution plots \"\"\"\n",
    "plt.figure(figsize=(15, 20))\n",
    "\n",
    "for i, column in enumerate(white_wine.columns, 1):\n",
    "    plt.subplot(4, 3, i)\n",
    "    sns.histplot(white_wine[column], kde=True)\n",
    "    plt.title(f'Distribution of {column}')\n",
    "    plt.tight_layout()\n",
    "\n",
    "plt.show()"
   ]
  },
  {
   "cell_type": "code",
   "execution_count": null,
   "metadata": {},
   "outputs": [],
   "source": [
    "\"\"\" features - box plots \"\"\"\n",
    "plt.figure(figsize=(15, 20))\n",
    "\n",
    "for i, column in enumerate(white_wine.columns, 1):\n",
    "    plt.subplot(4, 3, i)\n",
    "    sns.boxplot(y=white_wine[column])\n",
    "    plt.title(f'Boxplot of {column}')\n",
    "    plt.tight_layout()\n",
    "\n",
    "plt.show()"
   ]
  },
  {
   "cell_type": "code",
   "execution_count": null,
   "metadata": {},
   "outputs": [],
   "source": [
    "\"\"\" features - correlation matrix \"\"\"\n",
    "corr_matrix = white_wine.corr()\n",
    "\n",
    "plt.figure(figsize=(12, 8))\n",
    "sns.heatmap(corr_matrix, annot=True, cmap='coolwarm', center=0)\n",
    "plt.title('Correlation Matrix of Wine Features')\n",
    "plt.show()"
   ]
  },
  {
   "cell_type": "markdown",
   "metadata": {},
   "source": [
    "### Bivariate Analysis"
   ]
  },
  {
   "cell_type": "code",
   "execution_count": null,
   "metadata": {},
   "outputs": [],
   "source": [
    "\"\"\" two features - scatter plots \"\"\"\n",
    "# alcohol vs quality\n",
    "plt.figure(figsize=(10, 6))\n",
    "sns.scatterplot(x='alcohol', y='quality', data=white_wine, alpha=0.5, color='purple')\n",
    "plt.title('Alcohol vs Quality')\n",
    "plt.show()\n",
    "\n",
    "# density vs residual sugar\n",
    "plt.figure(figsize=(10, 6))\n",
    "sns.scatterplot(x='residual sugar', y='density', data=white_wine, alpha=0.5, color='orange')\n",
    "plt.title('Residual Sugar vs Density')\n",
    "plt.show()"
   ]
  },
  {
   "cell_type": "code",
   "execution_count": null,
   "metadata": {},
   "outputs": [],
   "source": [
    "# select a subset of features for clarity\n",
    "subset = white_wine[['fixed acidity', 'volatile acidity', 'citric acid', 'alcohol', 'quality']]\n",
    "sns.pairplot(subset, hue='quality', palette='viridis')\n",
    "plt.suptitle('Pairwise Relationships of Selected Features', y=1.02)\n",
    "plt.show()"
   ]
  },
  {
   "cell_type": "markdown",
   "metadata": {},
   "source": [
    "## Fuzzy Clustering with Anomalous Patterns"
   ]
  },
  {
   "cell_type": "code",
   "execution_count": null,
   "metadata": {},
   "outputs": [],
   "source": [
    "X = white_wine.drop('quality', axis=1)\n",
    "y = white_wine['quality']"
   ]
  },
  {
   "cell_type": "markdown",
   "metadata": {},
   "source": [
    "### Normalization"
   ]
  },
  {
   "cell_type": "code",
   "execution_count": null,
   "metadata": {},
   "outputs": [],
   "source": [
    "# Range normalization\n",
    "def range_scaling(data):\n",
    "    means = np.array(data.mean())\n",
    "    mins = np.array(data.min())\n",
    "    maxs = np.array(data.max())  \n",
    "    \n",
    "    data_range = data.copy()\n",
    "    \n",
    "    for index, row in data_range.iterrows():\n",
    "        data_range.loc[index] = (row - means) / (maxs - mins)\n",
    "    \n",
    "    return pd.DataFrame(data_range, columns=data.columns)\n",
    "\n",
    "X_range = range_scaling(X)"
   ]
  },
  {
   "cell_type": "code",
   "execution_count": null,
   "metadata": {},
   "outputs": [],
   "source": [
    "# z-score normalization (standardization)\n",
    "def zscore_scaling(data):\n",
    "    z_score_scaler = StandardScaler()\n",
    "    X_zscore = z_score_scaler.fit_transform(data)\n",
    "    return pd.DataFrame(X_zscore, columns=data.columns)\n",
    "\n",
    "X_zscore = zscore_scaling(X)"
   ]
  },
  {
   "cell_type": "code",
   "execution_count": null,
   "metadata": {},
   "outputs": [],
   "source": [
    "X_range"
   ]
  },
  {
   "cell_type": "code",
   "execution_count": null,
   "metadata": {},
   "outputs": [],
   "source": [
    "X_zscore"
   ]
  },
  {
   "cell_type": "markdown",
   "metadata": {},
   "source": [
    "### Fuzzy c-Means (FCM)"
   ]
  },
  {
   "cell_type": "code",
   "execution_count": null,
   "metadata": {},
   "outputs": [],
   "source": [
    "costs = []\n",
    "c_range = range(3, 10) \n",
    "n_runs = 5\n",
    "\n",
    "for c in c_range:\n",
    "    current_costs = []\n",
    "\n",
    "    for seed in range(n_runs):\n",
    "        _, _, _, _, _, _, cost = fuzz.cluster.cmeans(\n",
    "            data=X_zscore.T, \n",
    "            c=c, \n",
    "            m=1.5, \n",
    "            error=1e-5, \n",
    "            maxiter=1000, \n",
    "            init=None, \n",
    "            seed=seed\n",
    "        )\n",
    "\n",
    "        current_costs.append(cost)\n",
    "        \n",
    "    avg_cost = np.mean(current_costs)\n",
    "    costs.append(avg_cost)"
   ]
  },
  {
   "cell_type": "code",
   "execution_count": null,
   "metadata": {},
   "outputs": [],
   "source": [
    "plt.figure(figsize=(10, 6))\n",
    "sns.lineplot(x=list(c_range), y=costs, marker='o')\n",
    "plt.title('FCM Cost Function vs Number of Clusters')\n",
    "plt.xlabel('Number of Clusters (c)')\n",
    "plt.ylabel('Average Cost Function (Jm)')\n",
    "plt.grid(True)\n",
    "plt.show()"
   ]
  },
  {
   "cell_type": "code",
   "execution_count": null,
   "metadata": {},
   "outputs": [],
   "source": [
    "def run_fcm_multiple_seeds(X, c, n_runs=5):\n",
    "    centers_list = []\n",
    "    for seed in range(n_runs):\n",
    "        cntr, u, _, _, _, _, _ = fuzz.cluster.cmeans(\n",
    "            data=X.T, c=c, m=1.5, error=1e-5, maxiter=1000, seed=seed\n",
    "        )\n",
    "        centers_list.append(cntr)\n",
    "    return centers_list\n",
    "\n",
    "def average_center_variation(centers_list):\n",
    "    dists = []\n",
    "    for a, b in combinations(centers_list, 2):\n",
    "        # match clusters using pairwise distances\n",
    "        D = cdist(a, b)\n",
    "        match = D.min(axis=1)\n",
    "        dists.append(np.mean(match))\n",
    "    return np.mean(dists)"
   ]
  },
  {
   "cell_type": "code",
   "execution_count": null,
   "metadata": {},
   "outputs": [],
   "source": [
    "c_range = range(3, 10)\n",
    "variations = []\n",
    "\n",
    "for c in c_range:\n",
    "    centers_list = run_fcm_multiple_seeds(X_zscore, c, n_runs=5)\n",
    "    avg_var = average_center_variation(centers_list)\n",
    "    variations.append(avg_var)"
   ]
  },
  {
   "cell_type": "code",
   "execution_count": null,
   "metadata": {},
   "outputs": [],
   "source": [
    "plt.figure(figsize=(10, 6))\n",
    "sns.lineplot(x=list(c_range), y=variations, marker='o')\n",
    "plt.title(\"Cluster Center Variation vs. Number of Clusters\")\n",
    "plt.xlabel(\"Number of Clusters (c)\")\n",
    "plt.ylabel(\"Average Variation\")\n",
    "plt.grid(True)\n",
    "plt.show()"
   ]
  },
  {
   "cell_type": "code",
   "execution_count": null,
   "metadata": {},
   "outputs": [],
   "source": [
    "\"\"\" ideal value : lower \"\"\"\n",
    "def xie_beni_index(X, U, centers):\n",
    "    um = U ** 2\n",
    "    dist_sq = np.sum((X[np.newaxis, :, :] - centers[:, np.newaxis, :]) ** 2, axis=2)\n",
    "    compactness = np.sum(um * dist_sq)\n",
    "\n",
    "    center_dist_sq = np.sum((centers[:, np.newaxis, :] - centers[np.newaxis, :, :]) ** 2, axis=2)\n",
    "    np.fill_diagonal(center_dist_sq, np.inf)\n",
    "    min_center_dist_sq = np.min(center_dist_sq)\n",
    "\n",
    "    if min_center_dist_sq == 0:\n",
    "        return np.inf\n",
    "    \n",
    "    return compactness / (X.shape[0] * min_center_dist_sq)"
   ]
  },
  {
   "cell_type": "code",
   "execution_count": null,
   "metadata": {},
   "outputs": [],
   "source": [
    "\"\"\" ideal value : higher \"\"\"\n",
    "def silhouette_index(X, U):\n",
    "    crisp_labels = np.argmax(U, axis=0)\n",
    "\n",
    "    return silhouette_score(X, crisp_labels)"
   ]
  },
  {
   "cell_type": "code",
   "execution_count": null,
   "metadata": {},
   "outputs": [],
   "source": [
    "\"\"\" ideal value : lower \"\"\"\n",
    "def fukuyama_sugeno_index(X, U, centers, m=1.5):\n",
    "    dist_to_centers = np.sum((X[:, np.newaxis, :] - centers)**2, axis=2)\n",
    "    compactness = np.sum(U**m * dist_to_centers)\n",
    "    \n",
    "    global_center = np.mean(X, axis=0)\n",
    "    separation = np.sum(U**m * np.sum((centers - global_center)**2, axis=1))\n",
    "    \n",
    "    return compactness - separation"
   ]
  },
  {
   "cell_type": "code",
   "execution_count": null,
   "metadata": {},
   "outputs": [],
   "source": [
    "\"\"\" ideal value : higher \"\"\"\n",
    "def partition_coefficient(U):\n",
    "    return np.sum(U**2) / U.shape[1] "
   ]
  },
  {
   "cell_type": "code",
   "execution_count": null,
   "metadata": {},
   "outputs": [],
   "source": [
    "\"\"\" ideal value : lower \"\"\"\n",
    "def partition_entropy(U, eps=1e-10):\n",
    "    return -np.sum(U * np.log(U + eps)) / U.shape[1]"
   ]
  },
  {
   "cell_type": "code",
   "execution_count": null,
   "metadata": {},
   "outputs": [],
   "source": [
    "c_range = range(3, 10) \n",
    "results = {\n",
    "    'XB': [],    \n",
    "    'S': [],   \n",
    "    'FSI': [],  \n",
    "    'PC': [],    \n",
    "    'PE': []     \n",
    "}\n",
    "\n",
    "for c in c_range:\n",
    "    cntr, u, _, _, _, _, _ = fuzz.cluster.cmeans(\n",
    "        X_zscore.T, c=c, m=1.5, error=1e-5, maxiter=1000, seed=42\n",
    "    )\n",
    "    results['XB'].append(xie_beni_index(X_zscore.values, u, cntr))\n",
    "    results['S'].append(silhouette_index(X_zscore.values, u))\n",
    "    results['FSI'].append(fukuyama_sugeno_index(X_zscore.values, u.T, cntr))\n",
    "    results['PC'].append(partition_coefficient(u))\n",
    "    results['PE'].append(partition_entropy(u))\n",
    "\n",
    "    print(f\"c={c}: \"\n",
    "          f\"XB={results['XB'][-1]:.3f}, \"\n",
    "          f\"S={results['S'][-1]:.3f}, \"\n",
    "          f\"FSI={results['FSI'][-1]:.3f}, \"\n",
    "          f\"PC={results['PC'][-1]:.3f}, \"\n",
    "          f\"PE={results['PE'][-1]:.3f}\")"
   ]
  },
  {
   "cell_type": "code",
   "execution_count": null,
   "metadata": {},
   "outputs": [],
   "source": [
    "plt.figure(figsize=(10, 6)) \n",
    "sns.lineplot(x=list(c_range), y=results['XB'], marker='o')\n",
    "plt.title(\"Xie-Beni Index (XB)\")\n",
    "plt.xlabel(\"Number of Clusters\")\n",
    "plt.ylabel(\"XB Value\")\n",
    "plt.grid(True)\n",
    "plt.show()\n",
    "\n",
    "plt.figure(figsize=(10, 6)) \n",
    "sns.lineplot(x=list(c_range), y=results['S'], marker='o')\n",
    "plt.title(\"Silhouette Index (S)\")\n",
    "plt.xlabel(\"Number of Clusters\")\n",
    "plt.ylabel(\"S Value\")\n",
    "plt.grid(True)\n",
    "plt.show()\n",
    "\n",
    "plt.figure(figsize=(10, 6)) \n",
    "sns.lineplot(x=list(c_range), y=results['FSI'], marker='o')\n",
    "plt.title(\"Fukuyama Sugeno Index (FSI)\")\n",
    "plt.xlabel(\"Number of Clusters\")\n",
    "plt.ylabel(\"FSI Value\")\n",
    "plt.grid(True)\n",
    "plt.show()\n",
    "\n",
    "plt.figure(figsize=(10, 6)) \n",
    "sns.lineplot(x=list(c_range), y=results['PC'], marker='o')\n",
    "plt.title(\"Partition Coefficient Index (PC)\")\n",
    "plt.xlabel(\"Number of Clusters\")\n",
    "plt.ylabel(\"PC Value\")\n",
    "plt.grid(True)\n",
    "plt.show()\n",
    "\n",
    "plt.figure(figsize=(10, 6)) \n",
    "sns.lineplot(x=list(c_range), y=results['PE'], marker='o')\n",
    "plt.title(\"Partition Entropy Index (PE)\")\n",
    "plt.xlabel(\"Number of Clusters\")\n",
    "plt.ylabel(\"PE Value\")\n",
    "plt.grid(True)\n",
    "plt.show()"
   ]
  },
  {
   "cell_type": "markdown",
   "metadata": {},
   "source": [
    "### Iterative Anomalous Pattern (IAP)"
   ]
  },
  {
   "cell_type": "code",
   "execution_count": null,
   "metadata": {},
   "outputs": [],
   "source": [
    "def center_(x, cluster):\n",
    "    mm = x.shape[1]\n",
    "    centroidC = []\n",
    "    \n",
    "    for j in range(mm):\n",
    "        zz = x[:, j]\n",
    "        zc = []\n",
    "\n",
    "        for i in cluster:\n",
    "            zc.append(zz[i])\n",
    "            \n",
    "        centroidC.append(np.mean(zc))\n",
    "        \n",
    "    return centroidC"
   ]
  },
  {
   "cell_type": "code",
   "execution_count": null,
   "metadata": {},
   "outputs": [],
   "source": [
    "def distNorm(x, remains, ranges, p):\n",
    "    mm = x.shape[1]      # number of data features\n",
    "    rr = len(remains)    # number of entities in remains    \n",
    "    z = x[remains, :]\n",
    "    az = np.tile(np.array(p), (rr, 1))     # construct an array by repeating input array np.array(p)  \n",
    "                                           # the number of rows is rr\n",
    "    \n",
    "    rz = np.tile(np.array(ranges), (rr, 1))\n",
    "    dz = (z - az) / rz\n",
    "    dz = np.array(dz)\n",
    "    ddz = dz * dz\n",
    "\n",
    "    if mm > 1:\n",
    "        di = sum(ddz.T)\n",
    "    else:\n",
    "        di = ddz.T\n",
    "\n",
    "    distan = di\n",
    "\n",
    "    return distan"
   ]
  },
  {
   "cell_type": "code",
   "execution_count": null,
   "metadata": {},
   "outputs": [],
   "source": [
    "def separCluster(x0, remains, ranges, a, b):\n",
    "    dista = distNorm(x0, remains, ranges, a)\n",
    "    distb = distNorm(x0, remains, ranges, b)\n",
    "\n",
    "    clus = np.where(dista < distb)[0]\n",
    "\n",
    "    cluster = []\n",
    "\n",
    "    for i in clus:\n",
    "        cluster.append(remains[i])\n",
    "        \n",
    "    return cluster"
   ]
  },
  {
   "cell_type": "code",
   "execution_count": null,
   "metadata": {},
   "outputs": [],
   "source": [
    "def anomalousPattern(x, remains, ranges, centroid, me):    \n",
    "    key = 1\n",
    "\n",
    "    while key == 1:\n",
    "        cluster = separCluster(x, remains, ranges, centroid, me)\n",
    "        \n",
    "        if len(cluster) != 0:\n",
    "            newcenter = center_(x, cluster)\n",
    "          \n",
    "        if  len([i for i, j in zip(centroid, newcenter) if i == j]) != len(centroid):\n",
    "            centroid = newcenter\n",
    "        else:\n",
    "            key = 0\n",
    "\n",
    "    return (cluster, centroid)"
   ]
  },
  {
   "cell_type": "code",
   "execution_count": null,
   "metadata": {},
   "outputs": [],
   "source": [
    "def dist(x, remains, ranges, p):\n",
    "    mm = x.shape[1]       # number of columns\n",
    "    rr = len(remains)     # number of entities in remains  \n",
    "\n",
    "    distan = np.zeros((rr,1))    \n",
    "\n",
    "    for j in range(mm):\n",
    "        z = x[:, j]         # j feature vector\n",
    "        z = z.reshape((-1,1))\n",
    "        zz = z[remains]\n",
    "        y = zz - p[j]\n",
    "        y = y / ranges[j]\n",
    "        y = np.array(y)\n",
    "        yy = y * y\n",
    "        distan = distan + yy\n",
    "        \n",
    "    return distan"
   ]
  },
  {
   "cell_type": "code",
   "execution_count": null,
   "metadata": {},
   "outputs": [],
   "source": [
    "# normalization FLAG\n",
    "normalization = 0\n",
    "\n",
    "# threshold value of the cardinality of clusters\n",
    "threshold = 150\n",
    "\n",
    "x = X_zscore.values.astype(np.float32)\n",
    "\n",
    "# number of data points\n",
    "nn = x.shape[0]\n",
    "# number of features\n",
    "mm = x.shape[1]\n",
    "\n",
    "# grand means\n",
    "me = []\n",
    "# maximum value\n",
    "mmax = []\n",
    "# minimum value\n",
    "mmin = []\n",
    "# ranges\n",
    "ranges = []\n",
    "# \"anomalous cluster\" ancl is the data structure to keep everything together\n",
    "ancl = []\n",
    "\n",
    "for j in range(mm): # for each feature\n",
    "    z = x[:, j]     # data column vector j-th feature\n",
    "    me.append(np.mean(z))\n",
    "    mmax.append(np.max(z))\n",
    "    mmin.append(np.min(z))\n",
    "    if normalization:\n",
    "        ranges.append(1)\n",
    "    else:\n",
    "        ranges.append(mmax[j] - mmin[j])\n",
    "    if ranges[j] == 0:\n",
    "        print(\"Variable num {} is contant!\".format(j))\n",
    "        ranges[j] = 1\n",
    "\n",
    "sy = np.divide((x - me), ranges)\n",
    "sY = np.array(sy)\n",
    "d = np.sum(sY * sY)   # total data scatter of normalized data\n",
    "\n",
    "remains = list(range(nn))  # current index set of residual data after some anomalous clusters are extracted\n",
    "numberC = 0; # counter of anomalous clusters \n",
    "\n",
    "while(len(remains) != 0):\n",
    "    distance = dist(x, remains, ranges, me) # finding normalised distance vector from remains data points to reference 'me'\n",
    "    ind = np.argmax(distance)\n",
    "    index = remains[ind]\n",
    "    centroid = x[index, :]   # initial anomalous center reference point: the one with higher distance\n",
    "    numberC = numberC + 1\n",
    "    \n",
    "    (cluster, centroid) = anomalousPattern(x, remains, ranges, centroid, me) # finding AP cluster\n",
    "    \n",
    "    \n",
    "    censtand = np.divide((np.asarray(centroid) - me), np.asarray(ranges)) # standardised centroid with parameters of the data   \n",
    "    dD = np.sum(np.divide(censtand * censtand.T * len(cluster) * 100, d)) # cluster contribution (per cent)\n",
    "\n",
    "    remains = np.setdiff1d(remains, cluster) \n",
    "\n",
    "    # update the data structure that keeps everything together\n",
    "    ancl.append([cluster, censtand, dD])\n",
    "\n",
    "b = 3\n",
    "ll = [] # list of clusters\n",
    "\n",
    "for ik in range(numberC):\n",
    "    ll.append(len(ancl[ik][0]))\n",
    "\n",
    "rl = [i for i in ll if i >= threshold] # list of clusters with at least threshold elements\n",
    "cent = []\n",
    "\n",
    "if(len(rl) == 0):\n",
    "    print('Too great a threhsold!!!')\n",
    "else:\n",
    "    num_cents = 0\n",
    "\n",
    "    for ik in range(numberC):\n",
    "        cluster = ancl[ik][0]\n",
    "\n",
    "        if(len(cluster) >= threshold):\n",
    "            cent.append(ancl[ik][1])\n",
    "            num_cents += 1\n",
    "                \n",
    "cent = np.asarray(cent)\n",
    "print(cent.shape)\n",
    "\n",
    "init_partition = np.zeros((X_zscore.shape[0], len(cent)))\n",
    "\n",
    "for index, d in enumerate(X_zscore.values):\n",
    "    dists = [np.linalg.norm(d - c) for c in cent]\n",
    "    assign = dists.index(np.min(dists))\n",
    "    init_partition[index, assign] = 1"
   ]
  },
  {
   "cell_type": "code",
   "execution_count": null,
   "metadata": {},
   "outputs": [],
   "source": [
    "\"\"\" use AP as initialization for FCM \"\"\"\n",
    "cntr, u, u0, d, jm, p, fpc = fuzz.cluster.cmeans(\n",
    "    X_zscore.T,               \n",
    "    c=len(cent),              \n",
    "    m=1.5,                     \n",
    "    error=1e-5,               \n",
    "    maxiter=1000,              \n",
    "    init=init_partition.T,              \n",
    "    seed=42          \n",
    ")"
   ]
  },
  {
   "cell_type": "code",
   "execution_count": null,
   "metadata": {},
   "outputs": [],
   "source": [
    "pca = PCA(n_components=2)\n",
    "X_pca = pca.fit_transform(X_zscore.values)      \n",
    "centroids_pca = pca.transform(cent)        \n",
    "\n",
    "hard_clusters = np.argmax(u, axis=0)    \n",
    "cluster_sizes = [np.sum(hard_clusters == i) for i in range(len(cent))]\n",
    "print(\"Cluster sizes:\", cluster_sizes)"
   ]
  },
  {
   "cell_type": "code",
   "execution_count": null,
   "metadata": {},
   "outputs": [],
   "source": [
    "plt.figure(figsize=(12, 8))\n",
    "for i in range(len(cent)):  \n",
    "    plt.scatter(\n",
    "        X_pca[hard_clusters == i, 0], \n",
    "        X_pca[hard_clusters == i, 1], \n",
    "        label=f'Cluster {i}',\n",
    "        alpha=0.6\n",
    "    )\n",
    "\n",
    "plt.scatter(\n",
    "    centroids_pca[:, 0], centroids_pca[:, 1],\n",
    "    marker='X', s=200, c='black', linewidths=2, label='Centroids'\n",
    ")\n",
    "\n",
    "plt.title('AP-FCM Results: ' + str(len(cent)) +  ' Clusters (PCA)')\n",
    "plt.xlabel('Principal Component 1')\n",
    "plt.ylabel('Principal Component 2')\n",
    "plt.legend(bbox_to_anchor=(1.05, 1), loc='upper left') \n",
    "plt.grid()\n",
    "plt.tight_layout()\n",
    "plt.show()"
   ]
  },
  {
   "cell_type": "code",
   "execution_count": null,
   "metadata": {},
   "outputs": [],
   "source": [
    "plt.figure(figsize=(12, 8))\n",
    "sc = plt.scatter(\n",
    "    X_pca[:, 0], X_pca[:, 1],\n",
    "    c=np.max(u.T, axis=1), \n",
    "    cmap='viridis', alpha=0.6\n",
    ")\n",
    "plt.colorbar(sc, label='Membership Strength')\n",
    "plt.scatter(\n",
    "    centroids_pca[:, 0], centroids_pca[:, 1],\n",
    "    marker='X', s=200, c='red', label='Centroids'\n",
    ")\n",
    "plt.title('Fuzzy Membership Strength')\n",
    "plt.show()"
   ]
  },
  {
   "cell_type": "code",
   "execution_count": null,
   "metadata": {},
   "outputs": [],
   "source": [
    "# xie-beni index\n",
    "xb_index = xie_beni_index(X_zscore.values, u, cntr)\n",
    "print(f\"Xie-Beni Index: {xb_index:.3f}\")\n",
    "\n",
    "# partition coefficient\n",
    "pc = np.sum(u**2) / u.size\n",
    "print(f\"Partition Coefficient: {pc:.3f}\")"
   ]
  },
  {
   "cell_type": "markdown",
   "metadata": {},
   "source": [
    "## Principal Component Analysis"
   ]
  },
  {
   "cell_type": "markdown",
   "metadata": {},
   "source": [
    "### Select features related to the same aspect"
   ]
  },
  {
   "cell_type": "code",
   "execution_count": null,
   "metadata": {},
   "outputs": [],
   "source": [
    "subset_features = ['fixed acidity', 'volatile acidity', 'citric acid', 'pH']"
   ]
  },
  {
   "cell_type": "markdown",
   "metadata": {},
   "source": [
    "We selected acidity-related features because acidity is a key driver in wine flavor and preservation. This group represents a chemically coherent aspect of the wine, allowing us to isolate and analyze its effect on quality and structure."
   ]
  },
  {
   "cell_type": "code",
   "execution_count": null,
   "metadata": {},
   "outputs": [],
   "source": [
    "# Correlation Matrix\n",
    "corr_matrix = X[subset_features].corr()\n",
    "plt.figure(figsize=(6,5))\n",
    "sns.heatmap(corr_matrix, annot=True, cmap='coolwarm', fmt=\".2f\", square=True)\n",
    "plt.title('Correlation Matrix - Selected Features')\n",
    "plt.tight_layout()\n",
    "plt.show()"
   ]
  },
  {
   "cell_type": "code",
   "execution_count": null,
   "metadata": {},
   "outputs": [],
   "source": [
    "X_selected = X[subset_features]\n",
    "\n",
    "X_selected_zscore = zscore_scaling(X_selected)\n",
    "\n",
    "X_selected_range = range_scaling(X_selected)"
   ]
  },
  {
   "cell_type": "markdown",
   "metadata": {},
   "source": [
    "### Variance analysis"
   ]
  },
  {
   "cell_type": "code",
   "execution_count": null,
   "metadata": {},
   "outputs": [],
   "source": [
    "# PCA for data normalized by Z-score in 2D\n",
    "pca_zscore2d = PCA(n_components=2)\n",
    "X_zscore_pca_2d = pca_zscore2d.fit_transform(X_selected_zscore)\n",
    "\n",
    "# PCA for data normalized by Z-score in 3D\n",
    "pca_zscore3d = PCA(n_components=3)\n",
    "X_zscore_pca_3d = pca_zscore3d.fit_transform(X_selected_zscore)\n",
    "\n",
    "# PCA for data normalized by Range in 2D\n",
    "pca_range2d = PCA(n_components=2)\n",
    "X_range_pca_2d = pca_range2d.fit_transform(X_selected_range)\n",
    "\n",
    "# PCA for data normalized by Range in 3D\n",
    "pca_range3d = PCA(n_components=3)\n",
    "X_range_pca_3d = pca_range3d.fit_transform(X_selected_range)\n",
    "\n",
    "# Explained Variance\n",
    "print(\"Explained variance (Z-score 2D):\", np.round(pca_zscore2d.explained_variance_ratio_, 3))\n",
    "print(\"Explained variance (Z-score 3D):\", np.round(pca_zscore3d.explained_variance_ratio_, 3))\n",
    "print(\"Explained variance (Range 2D):\", np.round(pca_range2d.explained_variance_ratio_, 3))\n",
    "print(\"Explained variance (Range 3D):\", np.round(pca_range3d.explained_variance_ratio_, 3))"
   ]
  },
  {
   "cell_type": "markdown",
   "metadata": {},
   "source": [
    "#### Plots 2D / 3D"
   ]
  },
  {
   "cell_type": "code",
   "execution_count": null,
   "metadata": {},
   "outputs": [],
   "source": [
    "# Plot 2D Z-score\n",
    "plt.figure(figsize=(8,6))\n",
    "plt.scatter(X_zscore_pca_2d[:, 0], X_zscore_pca_2d[:, 1], c=y, cmap='viridis', alpha=0.6)\n",
    "plt.title(\"PCA 2D (Z-score)\")\n",
    "plt.xlabel(\"PC1\")\n",
    "plt.ylabel(\"PC2\")\n",
    "plt.grid()\n",
    "plt.show()"
   ]
  },
  {
   "cell_type": "code",
   "execution_count": null,
   "metadata": {},
   "outputs": [],
   "source": [
    "# Plot 2D Range\n",
    "plt.figure(figsize=(8,6))\n",
    "plt.scatter(X_range_pca_2d[:, 0], X_range_pca_2d[:, 1], c=y, cmap='plasma', alpha=0.6)\n",
    "plt.title(\"PCA 2D (Range Scaled)\")\n",
    "plt.xlabel(\"PC1\")\n",
    "plt.ylabel(\"PC2\")\n",
    "plt.grid()\n",
    "plt.show()"
   ]
  },
  {
   "cell_type": "code",
   "execution_count": null,
   "metadata": {},
   "outputs": [],
   "source": [
    "# Plot 3D Z-score\n",
    "fig = plt.figure(figsize=(10,7))\n",
    "ax = fig.add_subplot(111, projection='3d')\n",
    "ax.scatter(X_zscore_pca_3d[:, 0], X_zscore_pca_3d[:, 1], X_zscore_pca_3d[:, 2], c=y, cmap='viridis', alpha=0.5)\n",
    "ax.set_title(\"PCA 3D (Z-score)\")\n",
    "ax.set_xlabel(\"PC1\")\n",
    "ax.set_ylabel(\"PC2\")\n",
    "ax.set_zlabel(\"PC3\")\n",
    "plt.show()"
   ]
  },
  {
   "cell_type": "code",
   "execution_count": null,
   "metadata": {},
   "outputs": [],
   "source": [
    "# Plot 3D Range\n",
    "fig = plt.figure(figsize=(10,7))\n",
    "ax = fig.add_subplot(111, projection='3d')\n",
    "ax.scatter(X_range_pca_3d[:, 0], X_range_pca_3d[:, 1], X_range_pca_3d[:, 2], c=y, cmap='plasma', alpha=0.5)\n",
    "ax.set_title(\"PCA 3D (Range Scaled)\")\n",
    "ax.set_xlabel(\"PC1\")\n",
    "ax.set_ylabel(\"PC2\")\n",
    "ax.set_zlabel(\"PC3\")\n",
    "plt.show()"
   ]
  },
  {
   "cell_type": "markdown",
   "metadata": {},
   "source": [
    "#### Final choice of normalization method and number of principal components"
   ]
  },
  {
   "cell_type": "code",
   "execution_count": null,
   "metadata": {},
   "outputs": [],
   "source": [
    "# PCA without Normalization\n",
    "pca_n = PCA()\n",
    "pca_n.fit(X_selected)\n",
    "explained_var_n = pca_n.explained_variance_ratio_\n",
    "\n",
    "# PCA with Z-score\n",
    "pca_z = PCA()\n",
    "pca_z.fit(X_selected_zscore)\n",
    "explained_var_z = pca_z.explained_variance_ratio_\n",
    "\n",
    "# PCA with Range\n",
    "pca_r = PCA()\n",
    "pca_r.fit(X_selected_range)\n",
    "explained_var_r = pca_r.explained_variance_ratio_\n",
    "\n",
    "# Sum of explained variance in the first 2 PCs\n",
    "print(\"No Normalization - PC1 + PC2:\", explained_var_n[:2].sum())\n",
    "print(\"Z-score - PC1 + PC2:\", explained_var_z[:2].sum())\n",
    "print(\"Range  - PC1 + PC2:\", explained_var_r[:2].sum())"
   ]
  },
  {
   "cell_type": "markdown",
   "metadata": {},
   "source": [
    "No normalization and range have equal explained variance so we will use Range because of its remaining advantages over no normalization."
   ]
  },
  {
   "cell_type": "code",
   "execution_count": null,
   "metadata": {},
   "outputs": [],
   "source": [
    "\n",
    "plt.figure(figsize=(10,4))\n",
    "plt.plot(np.cumsum(explained_var_z), label='Z-score')\n",
    "plt.plot(np.cumsum(explained_var_r), label='Range')\n",
    "plt.axhline(y=0.8, color='gray', linestyle='--', label='80% threshold')\n",
    "plt.xlabel('Number of Components')\n",
    "plt.ylabel('Cumulative Explained Variance')\n",
    "plt.title('Scree Plot - PCA Comparison')\n",
    "plt.legend()\n",
    "plt.grid(True)\n",
    "plt.show()"
   ]
  },
  {
   "cell_type": "markdown",
   "metadata": {},
   "source": [
    "Best number of componentes (explained variance must be above 80%) for Z-score is 4. For Range is 3.\n",
    "So we will be using **Range Normalization** and **3** Principal Components"
   ]
  },
  {
   "cell_type": "code",
   "execution_count": null,
   "metadata": {},
   "outputs": [],
   "source": [
    "# Range normalization\n",
    "X_scaled = range_scaling(X_selected)\n",
    "# X_scaled = MinMaxScaler().fit_transform(X_selected)\n",
    "# X_scaled = pd.DataFrame(X_scaled, columns=X_selected.columns)\n",
    "\n",
    "# PCA with automatic solver\n",
    "pca = PCA(n_components=4, svd_solver='auto')\n",
    "X_pca = pca.fit_transform(X_scaled)\n",
    "\n",
    "# Explained variance\n",
    "print(\"Explained variance ratio:\", pca.explained_variance_ratio_)\n",
    "\n",
    "plt.figure(figsize=(10, 6))\n",
    "plt.bar(range(4), pca.explained_variance_ratio_)\n",
    "plt.xlabel('Principal Components')\n",
    "plt.ylabel('Explained Variance Ratio')\n",
    "plt.title('Explained Variance Ratio')\n",
    "plt.show()"
   ]
  },
  {
   "cell_type": "markdown",
   "metadata": {},
   "source": [
    "We applied PCA using the svd_solver='auto' setting, which automatically selects the most suitable decomposition method based on data shape. This ensures a balance between performance and numerical stability without requiring manual tuning."
   ]
  },
  {
   "cell_type": "code",
   "execution_count": null,
   "metadata": {},
   "outputs": [],
   "source": [
    "# Define groups\n",
    "labels = ['Low Quality' if q < 7 else 'High Quality' for q in y]\n",
    "colors = ['#722F37' if q < 7 else '#2a9d8f' for q in y]\n",
    "markers = ['o' if q < 7 else '^' for q in y]\n",
    "\n",
    "# 2D Scatter Plot\n",
    "plt.figure(figsize=(8,6))\n",
    "for i in range(len(X_pca)):\n",
    "    plt.scatter(X_pca[i,0], X_pca[i,1], c=colors[i], marker=markers[i], edgecolor='k', alpha=0.7)\n",
    "plt.title('PCA 2D Projection with Grouped Labels')\n",
    "plt.xlabel('PC1')\n",
    "plt.ylabel('PC2')\n",
    "plt.grid(True)\n",
    "plt.show()\n",
    "\n",
    "# 3D Scatter Plot\n",
    "fig = plt.figure(figsize=(10,7))\n",
    "ax = fig.add_subplot(111, projection='3d')\n",
    "for i in range(len(X_pca)):\n",
    "    ax.scatter(X_pca[i,0], X_pca[i,1], X_pca[i,2], c=colors[i], marker=markers[i], alpha=0.7, edgecolor='k')\n",
    "ax.set_title('PCA 3D Projection with Grouped Labels')\n",
    "ax.set_xlabel('PC1')\n",
    "ax.set_ylabel('PC2')\n",
    "ax.set_zlabel('PC3')\n",
    "plt.show()"
   ]
  },
  {
   "cell_type": "code",
   "execution_count": null,
   "metadata": {},
   "outputs": [],
   "source": [
    "# Use quality score as group label\n",
    "qualities = sorted(y.unique())\n",
    "colors = plt.cm.viridis(np.linspace(0, 1, len(qualities)))\n",
    "\n",
    "# alcohol_groups = pd.cut(X['alcohol']\n",
    "# bins=[0, 9, 11, 13, 15]\n",
    "# labels=['Low', 'Mid-Low', 'Mid-High', 'High'])\n",
    "\n",
    "# 2D plot\n",
    "plt.figure(figsize=(10,6))\n",
    "for i, q in enumerate(qualities):\n",
    "    idx = y == q\n",
    "    plt.scatter(X_pca[idx, 0], X_pca[idx, 1], label=f'Quality {q}', alpha=0.6, color=colors[i])\n",
    "plt.xlabel('PC1')\n",
    "plt.ylabel('PC2')\n",
    "plt.title('PCA 2D Projection - Grouped by Quality')\n",
    "plt.legend()\n",
    "plt.grid(True)\n",
    "plt.show()\n",
    "\n",
    "# 3D plot\n",
    "fig = plt.figure(figsize=(10,7))\n",
    "ax = fig.add_subplot(111, projection='3d')\n",
    "for i, q in enumerate(qualities):\n",
    "    idx = y == q\n",
    "    ax.scatter(X_pca[idx, 0], X_pca[idx, 1], X_pca[idx, 2], label=f'Quality {q}', alpha=0.6, color=colors[i])\n",
    "ax.set_xlabel('PC1')\n",
    "ax.set_ylabel('PC2')\n",
    "ax.set_zlabel('PC3')\n",
    "ax.set_title('PCA 3D Projection - Grouped by Quality')\n",
    "ax.legend()\n",
    "plt.show()"
   ]
  },
  {
   "cell_type": "code",
   "execution_count": null,
   "metadata": {},
   "outputs": [],
   "source": [
    "explained = pca.explained_variance_ratio_\n",
    "components = [f'PC{i+1}' for i in range(len(explained))]  # dynamic labels\n",
    "\n",
    "plt.figure(figsize=(6,4))\n",
    "plt.bar(components, explained * 100, color='skyblue')\n",
    "plt.ylabel('Explained Variance (%)')\n",
    "plt.xlabel('Principal Component')\n",
    "plt.title('PCA Projection Quality')\n",
    "plt.ylim(0, 100)\n",
    "plt.grid(True)\n",
    "plt.show()\n",
    "\n",
    "# Optional: print cumulative variance\n",
    "print(\"Cumulative explained variance:\", np.cumsum(explained))"
   ]
  },
  {
   "cell_type": "code",
   "execution_count": null,
   "metadata": {},
   "outputs": [],
   "source": [
    "CC = ClustersCharacteristics(white_wine, label_target=\"quality\")"
   ]
  },
  {
   "cell_type": "code",
   "execution_count": null,
   "metadata": {},
   "outputs": [],
   "source": [
    "CC.graph_PCA_3D()"
   ]
  },
  {
   "cell_type": "code",
   "execution_count": null,
   "metadata": {},
   "outputs": [],
   "source": [
    "CC.graph_reduction_2D(\"PCA\")"
   ]
  },
  {
   "cell_type": "markdown",
   "metadata": {},
   "source": [
    "# Part II"
   ]
  },
  {
   "cell_type": "code",
   "execution_count": 8,
   "metadata": {},
   "outputs": [],
   "source": [
    "def spectral_clustering_dense(graph, k, sigma=1.0, laplacian_type=\"normalized\"):\n",
    "    \"\"\"\n",
    "    Spectral Clustering using Full Eigen Decomposition for small graphs.\n",
    "    \n",
    "    Parameters:\n",
    "    - graph: NetworkX graph\n",
    "    - k: Number of clusters\n",
    "    - sigma: Gaussian kernel parameter (controls neighborhood similarity)\n",
    "    - laplacian_type: \"unnormalized\" or \"normalized\" (default: \"normalized\")\n",
    "\n",
    "    Returns:\n",
    "    - cluster_labels: Cluster assignments for each node\n",
    "    \"\"\"\n",
    "    # Step 1: Compute the adjacency matrix (A)\n",
    "    A = nx.to_numpy_array(graph)\n",
    "\n",
    "    # Step 2: Compute similarity matrix (W) using Gaussian Kernel\n",
    "    pairwise_dists = squareform(pdist(A, metric=\"euclidean\"))  # Compute pairwise distances\n",
    "    W = np.exp(-pairwise_dists ** 2 / (2.0 * sigma ** 2))  # Apply Gaussian kernel\n",
    "\n",
    "    # Step 3: Compute the graph Laplacian\n",
    "    D = np.diag(W.sum(axis=1))  # Degree matrix\n",
    "    if laplacian_type == \"normalized\":\n",
    "        D_inv_sqrt = np.diag(1.0 / np.sqrt(D.diagonal()))\n",
    "        L = D_inv_sqrt @ W @ D_inv_sqrt  # Normalized Laplacian\n",
    "    else:\n",
    "        L = D - W  # Unnormalized Laplacian\n",
    "\n",
    "    # Step 4: Compute the top k eigenvectors using full decomposition\n",
    "    eigvals, eigvecs = np.linalg.eigh(L)  # Full decomposition\n",
    "\n",
    "    # Step 5: Normalize row-wise (handling NaN values)\n",
    "    X_norm = np.linalg.norm(eigvecs[:, -k:], axis=1, keepdims=True)\n",
    "    X_norm[X_norm == 0] = 1  # Avoid division by zero\n",
    "    X = eigvecs[:, -k:] / X_norm  # Normalize rows\n",
    "\n",
    "    # Step 6: Apply K-means clustering on the transformed space\n",
    "    kmeans = KMeans(n_clusters=k, random_state=42, n_init=10)\n",
    "    cluster_labels = kmeans.fit_predict(X)\n",
    "\n",
    "    return cluster_labels"
   ]
  },
  {
   "cell_type": "code",
   "execution_count": 9,
   "metadata": {},
   "outputs": [],
   "source": [
    "def evaluate_clustering(graph, labels, ground_truth):\n",
    "    \"\"\"\n",
    "    Evaluates clustering using Normalized Mutual Information (NMI) and Modularity Score.\n",
    "    \n",
    "    Parameters:\n",
    "    - graph: NetworkX graph\n",
    "    - labels: Cluster assignments from Spectral Clustering\n",
    "    - ground_truth: Ground-truth community labels\n",
    "\n",
    "    Returns:\n",
    "    - NMI Score\n",
    "    - Modularity Score\n",
    "    \"\"\"\n",
    "    # Compute NMI Score\n",
    "    nmi_score = normalized_mutual_info_score(ground_truth, labels)\n",
    "    \n",
    "    # Compute Modularity Score\n",
    "    communities = {i: [] for i in set(labels)}\n",
    "    for node, cluster in enumerate(labels):\n",
    "        communities[cluster].append(node)\n",
    "    modularity_score = modularity(graph, list(communities.values()))\n",
    "    \n",
    "    return nmi_score, modularity_score\n"
   ]
  },
  {
   "cell_type": "code",
   "execution_count": 10,
   "metadata": {},
   "outputs": [],
   "source": [
    "def load_dataset(path, label_attr=None):\n",
    "    \"\"\"\n",
    "    Loads a GML dataset and extracts ground-truth labels from a given attribute.\n",
    "\n",
    "    Parameters:\n",
    "    - path: Path to GML file\n",
    "    - label_attr: Attribute containing ground-truth labels\n",
    "\n",
    "    Returns:\n",
    "    - G: Processed undirected graph\n",
    "    - ground_truth: Ground-truth labels (if available), else None\n",
    "    \"\"\"\n",
    "    G_raw = nx.read_gml(path, label='label' if 'football' in path else None)\n",
    "    G = G_raw.to_undirected()\n",
    "\n",
    "    if not nx.is_connected(G):\n",
    "        largest_cc = max(nx.connected_components(G), key=len)\n",
    "        G = G.subgraph(largest_cc).copy()\n",
    "\n",
    "    mapping = {node: idx for idx, node in enumerate(G.nodes())}\n",
    "    G = nx.relabel_nodes(G, mapping)\n",
    "\n",
    "    ground_truth = None\n",
    "    if label_attr:\n",
    "        raw_labels = nx.get_node_attributes(G_raw, label_attr)\n",
    "        if raw_labels:\n",
    "            ground_truth = [raw_labels[node] for node in mapping.keys()]\n",
    "            if isinstance(ground_truth[0], str):\n",
    "                unique_labels = list(set(ground_truth))\n",
    "                label_map = {label: i for i, label in enumerate(unique_labels)}\n",
    "                ground_truth = [label_map[label] for label in ground_truth]\n",
    "    return G, ground_truth"
   ]
  },
  {
   "cell_type": "code",
   "execution_count": 42,
   "metadata": {},
   "outputs": [],
   "source": [
    "def run_spectral_experiments(graph, ground_truth, dataset_name, sigmas, ks):\n",
    "    \"\"\"\n",
    "    Runs spectral clustering on a graph with multiple σ and k settings.\n",
    "\n",
    "    Parameters:\n",
    "    - graph: NetworkX graph\n",
    "    - ground_truth: List of labels or None\n",
    "    - dataset_name: String identifier\n",
    "    - sigmas: List of sigma values\n",
    "    - ks: List of k values\n",
    "\n",
    "    Returns:\n",
    "    - DataFrame of results\n",
    "    \"\"\"\n",
    "    results = []\n",
    "\n",
    "    for sigma in sigmas:\n",
    "        for k in ks:\n",
    "            try:\n",
    "                # Run Spectral Clustering\n",
    "                labels = spectral_clustering_dense(graph, k=k, sigma=sigma, laplacian_type=\"normalized\")\n",
    "\n",
    "                # Evaluate\n",
    "                if ground_truth is not None:\n",
    "                    nmi, mod = evaluate_clustering(graph, labels, ground_truth)\n",
    "                else:\n",
    "                    nmi = None\n",
    "                    mod = modularity(graph, [{node for node_idx, node in enumerate(graph.nodes()) if labels[node_idx] == cluster} for cluster in set(labels)])\n",
    "\n",
    "                # Save the results\n",
    "                results.append({\n",
    "                    \"Dataset\": dataset_name,\n",
    "                    \"Sigma\": sigma,\n",
    "                    \"K\": k,\n",
    "                    \"NMI\": nmi,\n",
    "                    \"Modularity\": mod\n",
    "                })\n",
    "            except Exception as e:\n",
    "                print(f\"Failed at sigma={sigma}, k={k}: {e}\")\n",
    "    \n",
    "    # Convert results to a DataFrame\n",
    "    results_df = pd.DataFrame(results)\n",
    "    return results_df"
   ]
  },
  {
   "cell_type": "code",
   "execution_count": 46,
   "metadata": {},
   "outputs": [
    {
     "name": "stdout",
     "output_type": "stream",
     "text": [
      "[(0, {'value': 7}), (1, {'value': 0}), (2, {'value': 2}), (3, {'value': 3}), (4, {'value': 7}), (5, {'value': 3}), (6, {'value': 2}), (7, {'value': 8}), (8, {'value': 8}), (9, {'value': 7}), (10, {'value': 3}), (11, {'value': 10}), (12, {'value': 6}), (13, {'value': 2}), (14, {'value': 6}), (15, {'value': 2}), (16, {'value': 7}), (17, {'value': 9}), (18, {'value': 6}), (19, {'value': 1}), (20, {'value': 9}), (21, {'value': 8}), (22, {'value': 8}), (23, {'value': 7}), (24, {'value': 10}), (25, {'value': 0}), (26, {'value': 6}), (27, {'value': 9}), (28, {'value': 11}), (29, {'value': 1}), (30, {'value': 1}), (31, {'value': 6}), (32, {'value': 2}), (33, {'value': 0}), (34, {'value': 6}), (35, {'value': 1}), (36, {'value': 5}), (37, {'value': 0}), (38, {'value': 6}), (39, {'value': 2}), (40, {'value': 3}), (41, {'value': 7}), (42, {'value': 5}), (43, {'value': 6}), (44, {'value': 4}), (45, {'value': 0}), (46, {'value': 11}), (47, {'value': 2}), (48, {'value': 4}), (49, {'value': 11}), (50, {'value': 10}), (51, {'value': 8}), (52, {'value': 3}), (53, {'value': 11}), (54, {'value': 6}), (55, {'value': 1}), (56, {'value': 9}), (57, {'value': 4}), (58, {'value': 11}), (59, {'value': 10}), (60, {'value': 2}), (61, {'value': 6}), (62, {'value': 9}), (63, {'value': 10}), (64, {'value': 2}), (65, {'value': 9}), (66, {'value': 4}), (67, {'value': 11}), (68, {'value': 8}), (69, {'value': 10}), (70, {'value': 9}), (71, {'value': 6}), (72, {'value': 3}), (73, {'value': 11}), (74, {'value': 3}), (75, {'value': 4}), (76, {'value': 9}), (77, {'value': 8}), (78, {'value': 8}), (79, {'value': 1}), (80, {'value': 5}), (81, {'value': 3}), (82, {'value': 5}), (83, {'value': 11}), (84, {'value': 3}), (85, {'value': 6}), (86, {'value': 4}), (87, {'value': 9}), (88, {'value': 11}), (89, {'value': 0}), (90, {'value': 5}), (91, {'value': 4}), (92, {'value': 4}), (93, {'value': 7}), (94, {'value': 1}), (95, {'value': 9}), (96, {'value': 9}), (97, {'value': 10}), (98, {'value': 3}), (99, {'value': 6}), (100, {'value': 2}), (101, {'value': 1}), (102, {'value': 3}), (103, {'value': 0}), (104, {'value': 7}), (105, {'value': 0}), (106, {'value': 2}), (107, {'value': 3}), (108, {'value': 8}), (109, {'value': 0}), (110, {'value': 4}), (111, {'value': 8}), (112, {'value': 4}), (113, {'value': 9}), (114, {'value': 11})]\n",
      "[7, 0, 2, 3, 7, 3, 2, 8, 8, 7, 3, 10, 6, 2, 6, 2, 7, 9, 6, 1, 9, 8, 8, 7, 10, 0, 6, 9, 11, 1, 1, 6, 2, 0, 6, 1, 5, 0, 6, 2, 3, 7, 5, 6, 4, 0, 11, 2, 4, 11, 10, 8, 3, 11, 6, 1, 9, 4, 11, 10, 2, 6, 9, 10, 2, 9, 4, 11, 8, 10, 9, 6, 3, 11, 3, 4, 9, 8, 8, 1, 5, 3, 5, 11, 3, 6, 4, 9, 11, 0, 5, 4, 4, 7, 1, 9, 9, 10, 3, 6, 2, 1, 3, 0, 7, 0, 2, 3, 8, 0, 4, 8, 4, 9, 11]\n"
     ]
    }
   ],
   "source": [
    "G, ground_truth = load_dataset('football.gml', label_attr='value')\n",
    "\n",
    "print(G.nodes(data=True))\n",
    "\n",
    "cluster_labels = spectral_clustering_dense(G, k=1, sigma=1.0, laplacian_type=\"normalized\")\n",
    "\n",
    "print(ground_truth)\n",
    "\n",
    "evaluate_clustering(G, cluster_labels, ground_truth)\n",
    "\n",
    "results_df = run_spectral_experiments(G, ground_truth, \"Football\", sigmas=[0.1, 0.5, 1.0], ks=[2, 3, 4])"
   ]
  },
  {
   "cell_type": "code",
   "execution_count": 47,
   "metadata": {},
   "outputs": [
    {
     "data": {
      "image/png": "[encoded data removed]",
      "text/plain": [
       "<Figure size 800x600 with 1 Axes>"
      ]
     },
     "metadata": {},
     "output_type": "display_data"
    },
    {
     "data": {
      "image/png": "[encoded data removed]",
      "text/plain": [
       "<Figure size 800x600 with 1 Axes>"
      ]
     },
     "metadata": {},
     "output_type": "display_data"
    }
   ],
   "source": [
    "def plot_experiment_results(results_df, x_axis=\"K\", metric=\"NMI\", dataset_name=\"Dataset\"):\n",
    "    \n",
    "    plt.figure(figsize=(8,6))\n",
    "\n",
    "    if x_axis == \"K\":\n",
    "        for sigma_val in sorted(results_df['Sigma'].unique()):\n",
    "            subset = results_df[results_df['Sigma'] == sigma_val]\n",
    "            plt.plot(subset['K'], subset[metric], marker='o', label=f\"σ = {sigma_val}\")\n",
    "    elif x_axis == \"Sigma\":\n",
    "        for k_val in sorted(results_df['K'].unique()):\n",
    "            subset = results_df[results_df['K'] == k_val]\n",
    "            plt.plot(subset['Sigma'], subset[metric], marker='o', label=f\"k = {k_val}\")\n",
    "\n",
    "    plt.xlabel(x_axis)\n",
    "    plt.ylabel(metric)\n",
    "    plt.title(f\"{metric} vs {x_axis} for {dataset_name}\")\n",
    "    plt.legend()\n",
    "    plt.tight_layout()\n",
    "    plt.show()\n",
    "    \n",
    "plot_experiment_results(results_df, x_axis=\"K\", metric=\"NMI\", dataset_name=\"Football\")\n",
    "\n",
    "plot_experiment_results(results_df, x_axis=\"Sigma\", metric=\"Modularity\", dataset_name=\"Football\")"
   ]
  }
 ],
 "metadata": {
  "kernelspec": {
   "display_name": "Python 3",
   "language": "python",
   "name": "python3"
  },
  "language_info": {
   "codemirror_mode": {
    "name": "ipython",
    "version": 3
   },
   "file_extension": ".py",
   "mimetype": "text/x-python",
   "name": "python",
   "nbconvert_exporter": "python",
   "pygments_lexer": "ipython3",
   "version": "3.13.3"
  }
 },
 "nbformat": 4,
 "nbformat_minor": 2
}
